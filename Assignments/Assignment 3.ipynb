{
 "cells": [
  {
   "cell_type": "markdown",
   "metadata": {},
   "source": [
    "### Registration ID : GO_STP_9654"
   ]
  },
  {
   "cell_type": "markdown",
   "metadata": {},
   "source": [
    "1) Write a Python Program to sort (ascending and descending) a dictionary by value."
   ]
  },
  {
   "cell_type": "code",
   "execution_count": 26,
   "metadata": {},
   "outputs": [
    {
     "name": "stdout",
     "output_type": "stream",
     "text": [
      "[('D', 7), ('F', 18), ('E', 20), ('A', 32), ('B', 56), ('C', 90)]\n",
      "[('C', 90), ('B', 56), ('A', 32), ('E', 20), ('F', 18), ('D', 7)]\n",
      "A B C D E F \n",
      "('A', 32) ('B', 56) ('C', 90) ('D', 7) ('E', 20) ('F', 18) \n",
      "OrderedDict([('A', 32), ('B', 56), ('C', 90), ('D', 7), ('E', 20), ('F', 18)])\n"
     ]
    }
   ],
   "source": [
    "d=dict(A=32,F=18,D=7,C=90,E=20,B=56)\n",
    "\n",
    "# Sorting the Keys and Values in alphabetical using the value\n",
    "print( sorted( d.items(), key = lambda kv: (kv[1],kv[0]), reverse=False)) # Ascending\n",
    "print( sorted( d.items(), key = lambda kv: (kv[1],kv[0]), reverse=True))  # Decending\n",
    "\n",
    "# Displaying the Keys Alphabetically\n",
    "for i in sorted(d.keys(), key=None, reverse=False):\n",
    "    print(i,end=\" \")\n",
    "print()\n",
    "\n",
    "# Sorting the Keys and Values in Alphabetical Order using the Key\n",
    "for i in sorted(d, key=None, reverse=False):\n",
    "    print((i, d[i]), end=\" \")\n",
    "print()\n",
    "\n",
    "# Sort the dictionary by key by lexicogrphical order\n",
    "from collections import OrderedDict\n",
    "d1 = OrderedDict(sorted(d.items()))\n",
    "print(d1)\n",
    "    \n"
   ]
  },
  {
   "cell_type": "markdown",
   "metadata": {},
   "source": [
    "2) Write a Python Program to add a key to a dictionary. "
   ]
  },
  {
   "cell_type": "code",
   "execution_count": 31,
   "metadata": {},
   "outputs": [
    {
     "name": "stdout",
     "output_type": "stream",
     "text": [
      "{'A': 33, 'B': 12, 'C': 90, 'D': 70}\n",
      "{'A': 33, 'B': 12, 'C': 90, 'D': 70, 'E': 30}\n",
      "{'A': 33, 'B': 12, 'C': 90, 'D': 70, 'F': 10}\n"
     ]
    }
   ],
   "source": [
    "d = dict(A=33,B=12,C=90)\n",
    "d.update(D=70)\n",
    "print(d)\n",
    "\n",
    "# Using this method we can merge old dictionary and new key/value pair in another dictionary.\n",
    "d1 = {**d, **{'E':30}}\n",
    "print(d1)\n",
    "\n",
    "# Using __setitem__ method should be avoided because of its poor performance(computationally inefficient).\n",
    "d.__setitem__('F',10)\n",
    "print(d)"
   ]
  },
  {
   "cell_type": "markdown",
   "metadata": {},
   "source": [
    "3) Write a  program asks for City name and Temperature and builds a dictionary using that Later on you can input City name \n",
    "and it will tell you the Temperature of that City."
   ]
  },
  {
   "cell_type": "code",
   "execution_count": 6,
   "metadata": {},
   "outputs": [
    {
     "name": "stdout",
     "output_type": "stream",
     "text": [
      "Enter City name: a\n",
      "Enter Temperature: 1\n",
      "Dictionary is: {'a': 1}\n",
      "Enter 1 for Exit otherwise 0\n",
      "0\n",
      "Enter City name: b\n",
      "Enter Temperature: 2\n",
      "Dictionary is: {'a': 1, 'b': 2}\n",
      "Enter 1 for Exit otherwise 0\n",
      "1\n",
      "Enter City Name to find it's temperature\n",
      "b\n",
      "The Temperature of b is 2\n"
     ]
    }
   ],
   "source": [
    "d=dict()\n",
    "ip=0\n",
    "while ip!=1:\n",
    "    city_name,Temperature = input(\"Enter City name: \"),int(input(\"Enter Temperature: \"))\n",
    "    d[city_name]=Temperature\n",
    "    print(\"Dictionary is:\",d)\n",
    "    print(\"Enter 1 for Exit otherwise 0\")\n",
    "    ip=int(input())\n",
    "print(\"Enter City Name to find it's temperature\")\n",
    "city_name = input()\n",
    "print(f\"The Temperature of {city_name} is\",d[city_name])"
   ]
  },
  {
   "cell_type": "markdown",
   "metadata": {},
   "source": [
    "4) Write a Python program to convert list to list of dictionaries."
   ]
  },
  {
   "cell_type": "code",
   "execution_count": 9,
   "metadata": {},
   "outputs": [
    {
     "name": "stdout",
     "output_type": "stream",
     "text": [
      "[{'color_name': 'Black', 'color_code': '#000000'}, {'color_name': 'Red', 'color_code': '#FF0000'}, {'color_name': 'Maroon', 'color_code': '#800000'}, {'color_name': 'Yellow', 'color_code': '#FFFF00'}]\n"
     ]
    }
   ],
   "source": [
    "d=dict()\n",
    "l1=[\"Black\", \"Red\", \"Maroon\", \"Yellow\"]\n",
    "l2=[\"#000000\", \"#FF0000\", \"#800000\", \"#FFFF00\"]\n",
    "\n",
    "print([{'color_name':key,'color_code':value} for key,value in zip(l1,l2)])\n",
    "\n",
    "    "
   ]
  },
  {
   "cell_type": "raw",
   "metadata": {},
   "source": [
    "5) We have following information on Employees and their Salary (Salary is in lakhs),\n",
    "\n",
    "Employee\tSalary\n",
    "John\t14\n",
    "Smith\t13\n",
    "Alice\t32\n",
    "Daneil\t21\n",
    "\n",
    "1. Using above create a dictionary of Employees and their Salary\n",
    "\n",
    "2. Write a program that asks user for three type of inputs,\n",
    "\n",
    "a) print: if user enter print then it should print all Employees with their Salary in this format,\n",
    "John ==>14\n",
    "Smith ==>13\n",
    "Alice ==>32\n",
    "Daneil ==>21\n",
    "\n",
    "b) add: if user input adds then it should further ask for an Employee name to add. If Employee already exists in our dataset then it should print that it exists and do nothing. If it doesn't then it asks for Salary and add that new Employee/Salary in our dictionary and print it\n",
    "\n",
    "c) remove: when user inputs remove it should ask for an Employee to remove. If an Employee exists in our dictionary then remove it and print a new dictionary using format shown above in (a). Else print that Employee doesn't exist!\n",
    "\n",
    "d) query: on this again ask the user for which Employee he or she wants to query. When a user inputs that Employee it will print the Salary of that Employee."
   ]
  },
  {
   "cell_type": "code",
   "execution_count": null,
   "metadata": {},
   "outputs": [
    {
     "name": "stdout",
     "output_type": "stream",
     "text": [
      "{'John': 1400000, 'Smith': 1300000, 'Alice': 3200000, 'Daneil': 2100000}\n",
      "What Do You Want With This Data (Print\\Add\\Remove\\Query) :print\n",
      "John ==> 1400000\n",
      "Smith ==> 1300000\n",
      "Alice ==> 3200000\n",
      "Daneil ==> 2100000\n",
      "What Do You Want With This Data (Print\\Add\\Remove\\Query) :add\n",
      "Enter A Name Of New Employee : karan\n",
      "Enter The Salary Of Employee : 1200000\n",
      "John ==> 1400000\n",
      "Smith ==> 1300000\n",
      "Alice ==> 3200000\n",
      "Daneil ==> 2100000\n",
      "karan ==> 1200000\n",
      "What Do You Want With This Data (Print\\Add\\Remove\\Query) :remove\n",
      "Enter A Employee Name To Remove : karan\n",
      "John ==> 1400000\n",
      "Smith ==> 1300000\n",
      "Alice ==> 3200000\n",
      "Daneil ==> 2100000\n",
      "What Do You Want With This Data (Print\\Add\\Remove\\Query) :query\n",
      "Enter The Name Of The Employee Wants To QueryAlice\n",
      "3200000\n",
      "What Do You Want With This Data (Print\\Add\\Remove\\Query) :0\n",
      "Enter Only Valid Input\n"
     ]
    }
   ],
   "source": [
    "d=dict()\n",
    "Employee=['John','Smith','Alice','Daneil']\n",
    "Salary=[1400000,1300000,3200000,2100000]\n",
    "for key,value in zip(Employee,Salary):\n",
    "    d[key]=value\n",
    "print(d)\n",
    "\n",
    "cnt=0\n",
    "while cnt!=1:\n",
    "    ip = input(\"What Do You Want With This Data (Print\\Add\\Remove\\Query) :\").lower()\n",
    "    if ip=='print':\n",
    "        for kv in d.items():\n",
    "            print(kv[0],\"==>\",kv[1])\n",
    "    elif ip=='add':\n",
    "        new_name = input('Enter A Name Of New Employee : ')\n",
    "        if new_name in d.keys():\n",
    "            print('This Name Is Already In Data')\n",
    "        else:\n",
    "            new_sal = int(input('Enter The Salary Of Employee : '))\n",
    "            d[new_name]=new_sal\n",
    "            for kv in d.items():\n",
    "                print(kv[0],\"==>\",kv[1])\n",
    "    elif ip=='remove':\n",
    "         rem = input('Enter A Employee Name To Remove : ')\n",
    "         if rem in d:\n",
    "            del d[rem]\n",
    "            for kv in d.items():\n",
    "                print(kv[0],\"==>\",kv[1])\n",
    "         else:\n",
    "            print('Employee Does Not Exist')\n",
    "    elif ip=='query':\n",
    "         quer = input('Enter The Name Of The Employee Wants To Query')\n",
    "         if quer in d:\n",
    "            print(d[quer])\n",
    "         else:\n",
    "             print('The Name Does Not Exist')\n",
    "    else:\n",
    "        print('Enter Only Valid Input')\n",
    "    \n",
    "    \n",
    "\n",
    "\n"
   ]
  },
  {
   "cell_type": "markdown",
   "metadata": {},
   "source": [
    "6) What is the difference between a set and a frozenset? Create any set and try to use frozenset(setname)."
   ]
  },
  {
   "cell_type": "raw",
   "metadata": {},
   "source": [
    "The frozenset() function returns an immutable frozenset object initialized with elements from the given iterable.\n",
    "Frozen set is just an immutable version of a Python set object. While elements of a set can be modified at any time,\n",
    "elements of the frozen set remain the same after creation. Set Is Mutable."
   ]
  },
  {
   "cell_type": "code",
   "execution_count": 3,
   "metadata": {},
   "outputs": [
    {
     "name": "stdout",
     "output_type": "stream",
     "text": [
      "The frozen set is: frozenset({'e', 'u', 'o', 'i', 'a'})\n"
     ]
    }
   ],
   "source": [
    "vowels = ('a', 'e', 'i', 'o', 'u')\n",
    "fSet = frozenset(vowels)\n",
    "print('The frozen set is:', fSet)"
   ]
  },
  {
   "cell_type": "markdown",
   "metadata": {},
   "source": [
    "7) What is the difference between a set and a frozenset? Create any set and try to use frozenset(setname)."
   ]
  },
  {
   "cell_type": "raw",
   "metadata": {},
   "source": [
    "Frozen set is just an immutable version of a Python set object. While elements of a set can be modified at any time,\n",
    "elements of the frozen set remain the same after creation. Due to this, frozen sets can be used as keys in Dictionary\n",
    "or as elements of another set."
   ]
  },
  {
   "cell_type": "code",
   "execution_count": 1,
   "metadata": {},
   "outputs": [
    {
     "name": "stdout",
     "output_type": "stream",
     "text": [
      "{10, 20, 30}\n"
     ]
    }
   ],
   "source": [
    "set1 = {10,20,30,40,50}\n",
    "set2 = {40,50,60,70,80}\n",
    "print(set1.difference(set2))"
   ]
  }
 ],
 "metadata": {
  "kernelspec": {
   "display_name": "Python 3",
   "language": "python",
   "name": "python3"
  },
  "language_info": {
   "codemirror_mode": {
    "name": "ipython",
    "version": 3
   },
   "file_extension": ".py",
   "mimetype": "text/x-python",
   "name": "python",
   "nbconvert_exporter": "python",
   "pygments_lexer": "ipython3",
   "version": "3.7.6"
  }
 },
 "nbformat": 4,
 "nbformat_minor": 4
}
