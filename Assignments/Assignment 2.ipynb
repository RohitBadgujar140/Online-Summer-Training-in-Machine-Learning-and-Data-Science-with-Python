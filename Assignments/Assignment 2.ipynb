{
 "cells": [
  {
   "cell_type": "markdown",
   "metadata": {},
   "source": [
    "### Registration ID : GO_STP_9654"
   ]
  },
  {
   "cell_type": "markdown",
   "metadata": {},
   "source": [
    "1) Is a list mutable? "
   ]
  },
  {
   "cell_type": "raw",
   "metadata": {},
   "source": [
    "yes, List is mutable ordered collection data type"
   ]
  },
  {
   "cell_type": "markdown",
   "metadata": {},
   "source": [
    "2) Does a list need to be homogeneous?"
   ]
  },
  {
   "cell_type": "raw",
   "metadata": {},
   "source": [
    "No, List is heterogenous collections of data type"
   ]
  },
  {
   "cell_type": "markdown",
   "metadata": {},
   "source": [
    "3) What is the difference between a list and a tuple."
   ]
  },
  {
   "cell_type": "raw",
   "metadata": {},
   "source": [
    "list is mutable,ordered and support insertion,updation and deletion of elements from it whereas\n",
    "    tuple is immutable,ordered and does not support insertion,updation."
   ]
  },
  {
   "cell_type": "markdown",
   "metadata": {},
   "source": [
    "4) How to find the number of elements in the list?"
   ]
  },
  {
   "cell_type": "raw",
   "metadata": {},
   "source": [
    "using len() function and pass list in it like len(list)"
   ]
  },
  {
   "cell_type": "markdown",
   "metadata": {},
   "source": [
    "5) How to check whether the list is empty or not?"
   ]
  },
  {
   "cell_type": "raw",
   "metadata": {},
   "source": [
    "if len(list)==0 then list is empty else list is not empty"
   ]
  },
  {
   "cell_type": "markdown",
   "metadata": {},
   "source": [
    "6) How to find the first and last element of the list?"
   ]
  },
  {
   "cell_type": "raw",
   "metadata": {},
   "source": [
    "using indexing or slicing like list[0] gives first element of list whereas \n",
    "list[n-1] gives last element of list where n is length of list"
   ]
  },
  {
   "cell_type": "markdown",
   "metadata": {},
   "source": [
    "7) How to find the largest and lowest value in the list?"
   ]
  },
  {
   "cell_type": "code",
   "execution_count": 4,
   "metadata": {},
   "outputs": [
    {
     "name": "stdout",
     "output_type": "stream",
     "text": [
      "Enter Numbers in one line seperated by space: 1 2 3\n",
      "Minimum value is 1 and Maximum value is 3\n"
     ]
    }
   ],
   "source": [
    "lst = list(map(int,input(\"Enter Numbers in one line seperated by space: \").split()))\n",
    "min,max=lst[0],lst[0]\n",
    "for i in range(len(lst)):\n",
    "    if lst[i]<min:\n",
    "        min=lst[i]\n",
    "    if lst[i]>max:\n",
    "        max=lst[i]\n",
    "# print(f'Minimum value is {min} and Maximum value is {max}')\n",
    "\n",
    "# print(\"Minimum value is {} and Maximum value is {} \".format(min(lst),max(lst)))"
   ]
  },
  {
   "cell_type": "markdown",
   "metadata": {},
   "source": [
    "8) How to access elements of the list?"
   ]
  },
  {
   "cell_type": "code",
   "execution_count": 12,
   "metadata": {},
   "outputs": [
    {
     "name": "stdout",
     "output_type": "stream",
     "text": [
      "78\n",
      "12\n",
      "4\n",
      "89\n",
      "[78, 12, 4, 89]\n"
     ]
    }
   ],
   "source": [
    "lst = [78,12,4,89]\n",
    "for i in lst:\n",
    "    print(i)\n",
    "lst1 = [j for j in lst]\n",
    "print(lst1)"
   ]
  },
  {
   "cell_type": "markdown",
   "metadata": {},
   "source": [
    "9) Remove elements in a list before a specific index"
   ]
  },
  {
   "cell_type": "code",
   "execution_count": 26,
   "metadata": {},
   "outputs": [
    {
     "name": "stdout",
     "output_type": "stream",
     "text": [
      "12\n",
      "[78, 89, 12]\n",
      "[89, 12, 78]\n"
     ]
    }
   ],
   "source": [
    "lst = [78,12,4,89,12]\n",
    "print(lst.pop(1))\n",
    "lst.remove(4)\n",
    "print(lst)\n",
    "lst1 = list(set(lst))\n",
    "lst.remove(12)\n",
    "print(lst1)"
   ]
  },
  {
   "cell_type": "markdown",
   "metadata": {},
   "source": [
    "10) Remove elements in a list between 2 indices"
   ]
  },
  {
   "cell_type": "code",
   "execution_count": 27,
   "metadata": {},
   "outputs": [
    {
     "name": "stdout",
     "output_type": "stream",
     "text": [
      "[12, 4, 89]\n"
     ]
    }
   ],
   "source": [
    "lst = [78,12,4,89,12]\n",
    "print(lst[1:4])"
   ]
  },
  {
   "cell_type": "markdown",
   "metadata": {},
   "source": [
    "11) Return every 2nd element in a list between 2 indices"
   ]
  },
  {
   "cell_type": "code",
   "execution_count": 33,
   "metadata": {},
   "outputs": [
    {
     "name": "stdout",
     "output_type": "stream",
     "text": [
      "[12, 89]\n"
     ]
    }
   ],
   "source": [
    "print(lst[1::2])"
   ]
  },
  {
   "cell_type": "markdown",
   "metadata": {},
   "source": [
    "12) Get the first element from each nested list in a list"
   ]
  },
  {
   "cell_type": "code",
   "execution_count": 35,
   "metadata": {},
   "outputs": [
    {
     "name": "stdout",
     "output_type": "stream",
     "text": [
      "a\n",
      "b\n",
      "c\n",
      "d\n"
     ]
    }
   ],
   "source": [
    "lst = [['a',78],['b',12],['c',4],['d',89]]\n",
    "for i in lst:\n",
    "               print(i[0])\n",
    "    \n"
   ]
  },
  {
   "cell_type": "markdown",
   "metadata": {},
   "source": [
    "13) How to modify elements of the list?"
   ]
  },
  {
   "cell_type": "code",
   "execution_count": 38,
   "metadata": {},
   "outputs": [
    {
     "name": "stdout",
     "output_type": "stream",
     "text": [
      "[80, 14, 6, 91, 14]\n",
      "[80, 14, 6, 91, 14]\n"
     ]
    }
   ],
   "source": [
    "lst = [78,12,4,89,12]\n",
    "lst1 = [i+2 for i in lst]\n",
    "for i in range(len(lst)):\n",
    "    lst[i] = lst[i] + 2\n",
    "# lst[0] = 65\n",
    "print(lst)\n",
    "print(lst1)\n"
   ]
  },
  {
   "cell_type": "markdown",
   "metadata": {},
   "source": [
    "14) How to concatenate two lists?"
   ]
  },
  {
   "cell_type": "code",
   "execution_count": 44,
   "metadata": {},
   "outputs": [
    {
     "name": "stdout",
     "output_type": "stream",
     "text": [
      "[1, 4, 5, 6, 5, 3, 5, 7, 2, 5]\n",
      "[1, 4, 5, 6, 5, 3, 5, 7, 2, 5]\n"
     ]
    }
   ],
   "source": [
    "test_list1 = [1, 4, 5, 6, 5]\n",
    "test_list2 = [3, 5, 7, 2, 5]\n",
    "res_list = [y for x in [test_list1,test_list2] for y in x]\n",
    "print(res_list)\n",
    "# test_list1.extend(test_list2)\n",
    "# print(test_list1)"
   ]
  },
  {
   "cell_type": "markdown",
   "metadata": {},
   "source": [
    "15) How to add two lists element-wise in python?"
   ]
  },
  {
   "cell_type": "code",
   "execution_count": 51,
   "metadata": {},
   "outputs": [
    {
     "name": "stdout",
     "output_type": "stream",
     "text": [
      "[5, 7, 9]\n"
     ]
    }
   ],
   "source": [
    "list1 = [1, 2, 3]\n",
    "list2 = [4, 5, 6]\n",
    "sum_list = []\n",
    "for i,j in zip(list1,list2):\n",
    "    sum_list.append(i+j)\n",
    "print(sum_list)"
   ]
  },
  {
   "cell_type": "markdown",
   "metadata": {},
   "source": [
    "16) Difference between del and clear?"
   ]
  },
  {
   "cell_type": "raw",
   "metadata": {},
   "source": [
    "In Python dictionary, del keyword is used to delete a particular element.\n",
    "The clear( ) function is used to delete all the elements in a dictionary."
   ]
  },
  {
   "cell_type": "markdown",
   "metadata": {},
   "source": [
    "17) Difference between remove and pop?"
   ]
  },
  {
   "cell_type": "raw",
   "metadata": {},
   "source": [
    " The only difference between the two is that- pop return deleted the value from the list and it's take element of list while\n",
    "remove does not return anything and  it's take index of element which we want to remove."
   ]
  },
  {
   "cell_type": "markdown",
   "metadata": {},
   "source": [
    "18) Difference between append and extend?"
   ]
  },
  {
   "cell_type": "raw",
   "metadata": {},
   "source": [
    "append is used to append values in list at the last while extend used for the concatination of two list."
   ]
  },
  {
   "cell_type": "markdown",
   "metadata": {},
   "source": [
    "19) Difference between indexing and Slicing?"
   ]
  },
  {
   "cell_type": "raw",
   "metadata": {},
   "source": [
    "Indexing means referring to an element of an iterable by its position within the iterable.\n",
    "Slicing means getting a subset of elements from an iterable based on their indices.\n"
   ]
  },
  {
   "cell_type": "markdown",
   "metadata": {},
   "source": [
    "20) Difference between sort and sorted?"
   ]
  },
  {
   "cell_type": "raw",
   "metadata": {},
   "source": [
    "The primary difference between the list sort() function and the sorted() function is that the sort() function will modify the \n",
    "list it is called on. The sorted() function will create a new list containing a sorted version of the list it is given.\n",
    "The sort() function modifies the list in-place and has no return value."
   ]
  },
  {
   "cell_type": "markdown",
   "metadata": {},
   "source": [
    "21) Difference between reverse and reversed?"
   ]
  },
  {
   "cell_type": "raw",
   "metadata": {},
   "source": [
    "reverse() actually reverses the elements in the container. reversed() doesn't actually reverse anything, it merely returns an object that can be used to iterate over the container's elements in reverse order. If that's what you need, it's often faster than actually reversing the elements."
   ]
  },
  {
   "cell_type": "markdown",
   "metadata": {},
   "source": [
    "22) Difference between copy and deepcopy?"
   ]
  },
  {
   "cell_type": "code",
   "execution_count": 25,
   "metadata": {},
   "outputs": [
    {
     "name": "stdout",
     "output_type": "stream",
     "text": [
      "2401392010184\n",
      "2401392010184\n",
      "True\n"
     ]
    }
   ],
   "source": [
    "# Normal copy\n",
    "l1=[1,2,[3,4]]\n",
    "l2=[4,5,[6,7]]\n",
    "\n",
    "l2=l1\n",
    "\n",
    "print(id(l1)==id(l2))"
   ]
  },
  {
   "cell_type": "code",
   "execution_count": 26,
   "metadata": {},
   "outputs": [
    {
     "name": "stdout",
     "output_type": "stream",
     "text": [
      "False\n"
     ]
    }
   ],
   "source": [
    "# shallow copy (but it's not working for nested list)\n",
    "import copy\n",
    "l1=[1,2,[3,4]]\n",
    "l2=[4,5,[6,7]]\n",
    "\n",
    "l2 = copy.copy(l1)\n",
    "\n",
    "print(id(l1)==id(l2))"
   ]
  },
  {
   "cell_type": "code",
   "execution_count": 30,
   "metadata": {},
   "outputs": [
    {
     "name": "stdout",
     "output_type": "stream",
     "text": [
      "False\n"
     ]
    }
   ],
   "source": [
    "# deep copy (it's working for nested list also)\n",
    "import copy\n",
    "l1=[1,2,[3,4]]\n",
    "l2=[4,5,[6,7]]\n",
    "\n",
    "l2 = copy.deepcopy(l1)\n",
    "\n",
    "print(id(l1)==id(l2))"
   ]
  },
  {
   "cell_type": "markdown",
   "metadata": {},
   "source": [
    "23) How to remove duplicate elements in the list?"
   ]
  },
  {
   "cell_type": "code",
   "execution_count": 58,
   "metadata": {},
   "outputs": [
    {
     "name": "stdout",
     "output_type": "stream",
     "text": [
      "[1, 2]\n",
      "[3, 4]\n",
      "[(-1, 0, 1), (1, 3, 4), (1, 2, 3)]\n"
     ]
    }
   ],
   "source": [
    "l1=[1,2,1,2,1,2,1,2]\n",
    "l1 = list(dict.fromkeys(l1))\n",
    "print(l1)\n",
    "l2=[3,4,3,4,3,4,3,4]\n",
    "l2 = list(set(l2))\n",
    "print(l2)\n",
    "\n",
    "# for nested list\n",
    "l3=[[1, 0, -1], [-1, 0, 1], [-1, 0, 1],[1, 2, 3], [3, 4, 1]]\n",
    "\n",
    "l3 =  list(set(tuple(sorted(sub)) for sub in l3))\n",
    "print(l3)\n"
   ]
  },
  {
   "cell_type": "markdown",
   "metadata": {},
   "source": [
    "24) How to find an index of an element in the python list?"
   ]
  },
  {
   "cell_type": "code",
   "execution_count": 59,
   "metadata": {},
   "outputs": [
    {
     "name": "stdout",
     "output_type": "stream",
     "text": [
      "1\n"
     ]
    }
   ],
   "source": [
    "l1=[11,22,1,2,3,4,5]\n",
    "print(l1.index(22))"
   ]
  },
  {
   "cell_type": "markdown",
   "metadata": {},
   "source": [
    "25) How to find the occurrences of an element in the python list?"
   ]
  },
  {
   "cell_type": "code",
   "execution_count": 69,
   "metadata": {},
   "outputs": [
    {
     "name": "stdout",
     "output_type": "stream",
     "text": [
      "Count of 11 is 2\n",
      "Count of 1 is 3\n"
     ]
    }
   ],
   "source": [
    "l1=[11,22,1,2,3,41,11]\n",
    "cnt = l1.count(11)\n",
    "\n",
    "print('Count of 11 is {}'.format(cnt))\n",
    "\n",
    "for i in l1:\n",
    "    if i==1:\n",
    "        cnt+=1\n",
    "print(f\"Count of 1 is {cnt}\")"
   ]
  },
  {
   "cell_type": "markdown",
   "metadata": {},
   "source": [
    "26) How to insert an item at a given position?"
   ]
  },
  {
   "cell_type": "code",
   "execution_count": 70,
   "metadata": {},
   "outputs": [
    {
     "name": "stdout",
     "output_type": "stream",
     "text": [
      "[11, 22, 33, 1, 2, 3, 41, 11]\n"
     ]
    }
   ],
   "source": [
    "l1=[11,22,1,2,3,41,11]\n",
    "l1.insert(2,33)\n",
    "print(l1)"
   ]
  },
  {
   "cell_type": "markdown",
   "metadata": {},
   "source": [
    "27) How to check if an item is in the list?"
   ]
  },
  {
   "cell_type": "code",
   "execution_count": 71,
   "metadata": {},
   "outputs": [
    {
     "name": "stdout",
     "output_type": "stream",
     "text": [
      "True\n"
     ]
    }
   ],
   "source": [
    "l1=[11,22,1,2,3,41,11]\n",
    "print(11 in l1)"
   ]
  },
  {
   "cell_type": "markdown",
   "metadata": {},
   "source": [
    "28) How to flatten a list in python?"
   ]
  },
  {
   "cell_type": "code",
   "execution_count": 78,
   "metadata": {},
   "outputs": [
    {
     "name": "stdout",
     "output_type": "stream",
     "text": [
      "[1, 2, 3, 4, 5, 6, 7, 8, 9, 10]\n",
      "[1, 2, 3, 4, 5, 6, 7, 8, 9, 10]\n"
     ]
    }
   ],
   "source": [
    "import itertools\n",
    "l1 = [[1, 2, 3], [4, 5], [6, 7, 8, 9, 10]]\n",
    "l2= itertools.chain(*l1)\n",
    "print(list(l2))\n",
    "\n",
    "flat_list = []\n",
    "def flattern_list(l1):\n",
    "    for i in l1:\n",
    "        if type(i)==list:\n",
    "            flattern_list(i)\n",
    "        else:\n",
    "            flat_list.append(i)\n",
    "    return flat_list\n",
    "\n",
    "print(flattern_list(l1))\n",
    "            \n",
    "            \n",
    "            \n",
    "        "
   ]
  },
  {
   "cell_type": "markdown",
   "metadata": {},
   "source": [
    "29) How to convert python list to other data structures like set, tuple, dictionary?"
   ]
  },
  {
   "cell_type": "code",
   "execution_count": 83,
   "metadata": {},
   "outputs": [
    {
     "name": "stdout",
     "output_type": "stream",
     "text": [
      "{1, 2, 3, 4, 5, 11, 77, 22}\n",
      "(11, 22, 1, 2, 3, 4, 5, 77)\n",
      "{11: 22, 1: 2, 3: 4, 5: 77}\n"
     ]
    }
   ],
   "source": [
    "l1=[11,22,1,2,3,4,5,77]\n",
    "s1 = set(l1)\n",
    "print(s1)\n",
    "t1 = tuple(l1)\n",
    "print(t1)\n",
    "\n",
    "it = iter(l1)\n",
    "d1 = dict(zip(it,it))    \n",
    "print(d1)"
   ]
  },
  {
   "cell_type": "markdown",
   "metadata": {},
   "source": [
    "30) How to apply a function to all items in the list?"
   ]
  },
  {
   "cell_type": "code",
   "execution_count": 88,
   "metadata": {},
   "outputs": [
    {
     "name": "stdout",
     "output_type": "stream",
     "text": [
      "['A', 'B', 'C']\n",
      "['A', 'B', 'C']\n"
     ]
    }
   ],
   "source": [
    "l1= [\"a\", \"b\", \"c\"]\n",
    "l2 = map(str.upper,l1)\n",
    "print(list(l2))\n",
    "\n",
    "l3 = [str.upper(i) for i in l1]\n",
    "print(l3)"
   ]
  },
  {
   "cell_type": "markdown",
   "metadata": {},
   "source": [
    "31) How to filter the elements based on a function in a python list?"
   ]
  },
  {
   "cell_type": "code",
   "execution_count": 89,
   "metadata": {},
   "outputs": [
    {
     "name": "stdout",
     "output_type": "stream",
     "text": [
      "[70, 80, 90]\n"
     ]
    }
   ],
   "source": [
    "scores = [70, 60, 80, 90, 50]\n",
    "filtered = filter(lambda score: score >= 70, scores)\n",
    "\n",
    "print(list(filtered))"
   ]
  },
  {
   "cell_type": "markdown",
   "metadata": {},
   "source": [
    "32) How python lists are stored in memory?"
   ]
  },
  {
   "cell_type": "raw",
   "metadata": {},
   "source": [
    "Instead of storing values in the memory space reserved by the variable, Python has the variable refer to the value. \n",
    "Similar to pointers in C, variables in Python refer to values (or objects) stored somewhere in memory.Python keeps an \n",
    "internal counter on how many references an object has."
   ]
  }
 ],
 "metadata": {
  "kernelspec": {
   "display_name": "Python 3",
   "language": "python",
   "name": "python3"
  },
  "language_info": {
   "codemirror_mode": {
    "name": "ipython",
    "version": 3
   },
   "file_extension": ".py",
   "mimetype": "text/x-python",
   "name": "python",
   "nbconvert_exporter": "python",
   "pygments_lexer": "ipython3",
   "version": "3.7.6"
  }
 },
 "nbformat": 4,
 "nbformat_minor": 4
}
