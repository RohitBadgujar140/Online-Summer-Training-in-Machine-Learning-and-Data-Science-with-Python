{
 "cells": [
  {
   "cell_type": "markdown",
   "metadata": {},
   "source": [
    "### Registration ID : GO_STP_9654"
   ]
  },
  {
   "cell_type": "code",
   "execution_count": 2,
   "metadata": {},
   "outputs": [],
   "source": [
    "# Question 1)\n",
    "Colors = [\"Yellow\",\"Green\",\"White\",\"Black\"]\n",
    "\n",
    "Fruits=[\"Apple\",\"Papaya\",\"Mango\",\"Orange\"]\n",
    "\n",
    "Animals=[\"Tiger\",\"Lion\",\"Deer\",\"Zebra\"]"
   ]
  },
  {
   "cell_type": "markdown",
   "metadata": {},
   "source": [
    " i. Write a program that asks user to enter a Color/Fruit/Animal name and it should tell which category belongs to , like its is a fruit or color or Animal"
   ]
  },
  {
   "cell_type": "code",
   "execution_count": 17,
   "metadata": {},
   "outputs": [
    {
     "name": "stdout",
     "output_type": "stream",
     "text": [
      "Enter name of Colors or Fruits or Animals: mango\n",
      "It belongs to \"Fruits\" category\n"
     ]
    }
   ],
   "source": [
    "name = input(\"Enter name of Colors or Fruits or Animals: \").capitalize()\n",
    "if name in Colors:\n",
    "    print(\"It belongs to \\\"Colors\\\" category\")\n",
    "elif name in Fruits:\n",
    "    print(\"It belongs to \\\"Fruits\\\" category\")\n",
    "elif name in Animals:\n",
    "    print(\"It belongs to \\\"Animals\\\" category\")\n",
    "else:\n",
    "    print(\"Please give correct name\")\n"
   ]
  },
  {
   "cell_type": "markdown",
   "metadata": {},
   "source": [
    " ii. Write a program that asks user to enter two items and it tells you if they both are in same category or not. For example if I enter yellow and Black, it will print \"Both are colors\" but if I enter yellow and Tiger it should print \"They don't belong to same category\""
   ]
  },
  {
   "cell_type": "code",
   "execution_count": 20,
   "metadata": {},
   "outputs": [
    {
     "name": "stdout",
     "output_type": "stream",
     "text": [
      "Enter first name of Colors or Fruits or Animals: lion\n",
      "Enter second name of Colors or Fruits or Animals: deer\n",
      "Both belongs to \"Animals\" category\n"
     ]
    }
   ],
   "source": [
    "name1 = input(\"Enter first name of Colors or Fruits or Animals: \").capitalize()\n",
    "name2 = input(\"Enter second name of Colors or Fruits or Animals: \").capitalize()\n",
    "\n",
    "if name1 in Colors:\n",
    "    if name2 in Colors:\n",
    "        print(\"Both belongs to \\\"Colors\\\" category\")\n",
    "    else:\n",
    "        print(\"They don't belong to same category\")\n",
    "elif name1 in Fruits:\n",
    "    if name2 in Fruits:\n",
    "        print(\"Both belongs to \\\"Fruits\\\" category\")\n",
    "    else:\n",
    "        print(\"They don't belong to same category\")\n",
    "elif name1 in Animals:\n",
    "    if name2 in Animals:\n",
    "        print(\"Both belongs to \\\"Animals\\\" category\")\n",
    "    else:\n",
    "        print(\"They don't belong to same category\")"
   ]
  },
  {
   "cell_type": "markdown",
   "metadata": {},
   "source": [
    "Question 2)\n",
    "Write a python program that can tell you if your grade score good or not . Normal Score range is 40 to 60.\n",
    "  i. Ask user to enter his score.\n",
    "\n",
    "  ii. If it is below 40 to 60 range then print that score is low\n",
    "\n",
    "  iii. If it is above 60 then print that it is good otherwise print that it is normal"
   ]
  },
  {
   "cell_type": "code",
   "execution_count": 24,
   "metadata": {},
   "outputs": [
    {
     "name": "stdout",
     "output_type": "stream",
     "text": [
      "Enter your score: 10\n",
      "score is low\n"
     ]
    }
   ],
   "source": [
    "score = int(input(\"Enter your score: \"))\n",
    "if score>40 and score<60:\n",
    "    print(\"score is normal\")\n",
    "elif score>60:\n",
    "    print(\"score is good\")\n",
    "else:\n",
    "    print(\"score is low\")\n"
   ]
  },
  {
   "cell_type": "code",
   "execution_count": 26,
   "metadata": {},
   "outputs": [],
   "source": [
    "# Question 3)\n",
    "result = [\"Pass\",\"Fail\",\"Fail\",\"Pass\",\"Fail\",\"Pass\",\"Pass\",\"Fail\",\"Fail\",\"Fail\"]\n",
    "# Using for loop figure out how many times you got Pass"
   ]
  },
  {
   "cell_type": "code",
   "execution_count": 28,
   "metadata": {},
   "outputs": [
    {
     "name": "stdout",
     "output_type": "stream",
     "text": [
      "4 times you have got pass\n"
     ]
    }
   ],
   "source": [
    "cnt=0\n",
    "for i in result:\n",
    "    if i==\"Pass\":\n",
    "        cnt+=1\n",
    "print(\"{} times you have got pass\".format(cnt))"
   ]
  },
  {
   "cell_type": "raw",
   "metadata": {},
   "source": [
    "Question 4)\n",
    "Write a program that prints following shape\n",
    "\n",
    "*\n",
    "\n",
    "* *\n",
    "\n",
    "* * *\n",
    "\n",
    "* * * *\n",
    "\n",
    "* * * * *\n",
    "\n",
    "* * * *\n",
    "\n",
    "* * *\n",
    "\n",
    "* *\n",
    "\n",
    "*\n"
   ]
  },
  {
   "cell_type": "code",
   "execution_count": 50,
   "metadata": {
    "scrolled": true
   },
   "outputs": [
    {
     "name": "stdout",
     "output_type": "stream",
     "text": [
      "*\n",
      "**\n",
      "***\n",
      "****\n",
      "*****\n",
      "****\n",
      "***\n",
      "**\n",
      "*\n"
     ]
    }
   ],
   "source": [
    "for i in range(1,6):\n",
    "    for j in range(i):\n",
    "        print(\"*\",end=\"\")\n",
    "    print(\"\")\n",
    "    if i==5:\n",
    "        for i in range(6,2,-1):\n",
    "            for j in range(i-2):\n",
    "                print(\"*\",end=\"\")\n",
    "            print(\"\")\n",
    "    "
   ]
  },
  {
   "cell_type": "code",
   "execution_count": null,
   "metadata": {},
   "outputs": [],
   "source": [
    "Question 5)\n",
    "Lets say you are running a 50 km race. Write a program that,\n",
    "\n",
    "Upon completing each 10 km asks you \"are you tired?\"\n",
    "If you reply \"yes\" then it should break and print \"you didn't finish the race\"\n",
    " If you reply \"no\" then it should continue and ask \"are you tired\" on every km\n",
    "If you finish all 50 km then it should print congratulations message"
   ]
  },
  {
   "cell_type": "code",
   "execution_count": 1,
   "metadata": {},
   "outputs": [
    {
     "name": "stdout",
     "output_type": "stream",
     "text": [
      "How many kilometer do you run?10\n",
      "are you tired? (yes|no)\n",
      "no\n",
      "How many kilometer do you run?7\n",
      "are you tired? (yes|no)\n",
      "yes\n",
      "you didn't finish the race\n"
     ]
    }
   ],
   "source": [
    "Result=0\n",
    "flag=0\n",
    "while True:\n",
    "    current_run = int(input(\"How many kilometer do you run?\"))\n",
    "    Result=Result+current_run\n",
    "    if Result<50:\n",
    "        if flag==0 and Result%10==0:\n",
    "            print(\"are you tired? (yes|no)\")\n",
    "            user=input().lower()\n",
    "            if user==\"yes\":\n",
    "                print(\"you didn't finish the race\")\n",
    "                break\n",
    "            elif user==\"no\":\n",
    "                 flag=1\n",
    "                 while flag!=0:\n",
    "                        current_run = int(input(\"How many kilometer do you run?\"))\n",
    "                        Result=Result+current_run\n",
    "                        if Result<50:\n",
    "                            print(\"are you tired? (yes|no)\")\n",
    "                            user=input().lower()\n",
    "                            if user==\"yes\":\n",
    "                                print(\"you didn't finish the race\")\n",
    "                                break\n",
    "                            elif user==\"no\":\n",
    "                                continue\n",
    "                        else:\n",
    "                            print(\"congratulations, you won 50km race\")\n",
    "                            break\n",
    "                 break\n",
    "                            \n",
    "    else:\n",
    "        print(\"congratulations, you won 50km race\")\n",
    "        break"
   ]
  },
  {
   "cell_type": "markdown",
   "metadata": {},
   "source": [
    "Question 6)\n",
    " Write a Python program to find those numbers which are divisible by 7 and multiple of 5, between 1500 and 2700 (both included)."
   ]
  },
  {
   "cell_type": "code",
   "execution_count": 1,
   "metadata": {
    "scrolled": true
   },
   "outputs": [
    {
     "name": "stdout",
     "output_type": "stream",
     "text": [
      "1505\n",
      "1540\n",
      "1575\n",
      "1610\n",
      "1645\n",
      "1680\n",
      "1715\n",
      "1750\n",
      "1785\n",
      "1820\n",
      "1855\n",
      "1890\n",
      "1925\n",
      "1960\n",
      "1995\n",
      "2030\n",
      "2065\n",
      "2100\n",
      "2135\n",
      "2170\n",
      "2205\n",
      "2240\n",
      "2275\n",
      "2310\n",
      "2345\n",
      "2380\n",
      "2415\n",
      "2450\n",
      "2485\n",
      "2520\n",
      "2555\n",
      "2590\n",
      "2625\n",
      "2660\n",
      "2695\n"
     ]
    }
   ],
   "source": [
    "for i in range(1500,2701):\n",
    "    if i%7==0 and i%5==0:\n",
    "        print(i)"
   ]
  },
  {
   "cell_type": "markdown",
   "metadata": {},
   "source": [
    "Question 7)\n",
    "Print square of all numbers between 10 to 20 except even numbers"
   ]
  },
  {
   "cell_type": "code",
   "execution_count": 2,
   "metadata": {
    "scrolled": true
   },
   "outputs": [
    {
     "name": "stdout",
     "output_type": "stream",
     "text": [
      "121\n",
      "169\n",
      "225\n",
      "289\n",
      "361\n"
     ]
    }
   ],
   "source": [
    "for i in range(10,21):\n",
    "    if i%2!=0:\n",
    "        print(i**2)"
   ]
  },
  {
   "cell_type": "markdown",
   "metadata": {},
   "source": [
    "Question 8)\n",
    "Your Marks for five Test(test1 to test5) looks like this,\n",
    "\n",
    "marks_list = [65, 75, 2100, 95, 83]\n",
    "test_list = [\"Test1\",\"Test2\",\"Test3\",\"Test4\",\"Test5\"]\n",
    "\n",
    "Write a program that asks you to enter marks and program should tell you in which test that marks occurred. If marks is not found then it should print that as well."
   ]
  },
  {
   "cell_type": "code",
   "execution_count": 12,
   "metadata": {},
   "outputs": [
    {
     "name": "stdout",
     "output_type": "stream",
     "text": [
      "Enter marks70\n",
      "Oops!, I found that You have entered the wrong mark 70.Please provide the correct marks\n"
     ]
    }
   ],
   "source": [
    "cnt=-1\n",
    "marks_list = [65, 75, 2100, 95, 83]\n",
    "test_list = [\"Test1\",\"Test2\",\"Test3\",\"Test4\",\"Test5\"]\n",
    "\n",
    "marks = int(input(\"Enter marks\"))\n",
    "for i in range(len(marks_list)):\n",
    "    if marks==marks_list[i]:\n",
    "        cnt=i\n",
    "        break\n",
    "\n",
    "if cnt!=-1:\n",
    "    print(f\"You got {marks} in {test_list[cnt]}\")\n",
    "else:\n",
    "    print(f\"Oops!, I found that You have entered the wrong mark {marks}.Please provide the correct marks\")"
   ]
  }
 ],
 "metadata": {
  "kernelspec": {
   "display_name": "Python 3",
   "language": "python",
   "name": "python3"
  },
  "language_info": {
   "codemirror_mode": {
    "name": "ipython",
    "version": 3
   },
   "file_extension": ".py",
   "mimetype": "text/x-python",
   "name": "python",
   "nbconvert_exporter": "python",
   "pygments_lexer": "ipython3",
   "version": "3.7.6"
  }
 },
 "nbformat": 4,
 "nbformat_minor": 4
}
