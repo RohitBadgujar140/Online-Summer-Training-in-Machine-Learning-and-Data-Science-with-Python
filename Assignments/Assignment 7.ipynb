{
 "cells": [
  {
   "cell_type": "markdown",
   "metadata": {},
   "source": [
    "### Registration ID : GO_STP_9654"
   ]
  },
  {
   "cell_type": "markdown",
   "metadata": {},
   "source": [
    "Prediction using Supervised Machine Learning using Simple Linear Regression\n",
    "\n",
    "In this task we have to find the students scores based on their study hours. This is a simple Regression problem type because it has only two variables. "
   ]
  },
  {
   "cell_type": "code",
   "execution_count": 1,
   "metadata": {},
   "outputs": [],
   "source": [
    "# import libraries\n",
    "import pandas as pd\n",
    "import numpy as np\n",
    "from matplotlib import pyplot as plt"
   ]
  },
  {
   "cell_type": "code",
   "execution_count": 5,
   "metadata": {},
   "outputs": [
    {
     "name": "stdout",
     "output_type": "stream",
     "text": [
      "<class 'pandas.core.frame.DataFrame'>\n",
      "    Hours  Scores\n",
      "0     7.7      79\n",
      "1     5.9      60\n",
      "2     4.5      45\n",
      "3     3.3      33\n",
      "4     1.1      12\n",
      "5     8.9      87\n",
      "6     2.5      21\n",
      "7     1.9      19\n",
      "8     2.7      29\n",
      "9     8.3      81\n",
      "10    5.5      58\n",
      "11    9.2      88\n",
      "12    1.5      14\n",
      "13    3.5      34\n",
      "14    8.5      85\n",
      "15    3.2      32\n",
      "16    6.5      66\n",
      "17    2.5      21\n",
      "18    9.6      96\n",
      "19    4.3      42\n",
      "20    4.1      40\n",
      "21    3.0      30\n",
      "22    2.6      25\n"
     ]
    }
   ],
   "source": [
    "# read dataset\n",
    "df = pd.read_csv(\"StudentHoursScores.csv\")\n",
    "print(type(df))\n",
    "print(df)"
   ]
  },
  {
   "cell_type": "code",
   "execution_count": 10,
   "metadata": {},
   "outputs": [
    {
     "name": "stdout",
     "output_type": "stream",
     "text": [
      "Dimesnsion of x is 2\n",
      "Dimesnsion of y is 1\n",
      "Features(Hours) [[7.7]\n",
      " [5.9]\n",
      " [4.5]\n",
      " [3.3]\n",
      " [1.1]\n",
      " [8.9]\n",
      " [2.5]\n",
      " [1.9]\n",
      " [2.7]\n",
      " [8.3]\n",
      " [5.5]\n",
      " [9.2]\n",
      " [1.5]\n",
      " [3.5]\n",
      " [8.5]\n",
      " [3.2]\n",
      " [6.5]\n",
      " [2.5]\n",
      " [9.6]\n",
      " [4.3]\n",
      " [4.1]\n",
      " [3. ]\n",
      " [2.6]]\n",
      " Label(Scores) [79 60 45 33 12 87 21 19 29 81 58 88 14 34 85 32 66 21 96 42 40 30 25]\n"
     ]
    }
   ],
   "source": [
    "# Divide dataset into x(features as i/p) and y(label as o/p)\n",
    "# Linear Regression model takes x as 2-D numpy array format bcz features(i/p) can be multiple values for particular dataset\n",
    "#  and y as 1-D numpy array format bcz label(o/p) can be only one unique value\n",
    "\n",
    "x = df.iloc[:, :-1].values\n",
    "y = df.iloc[:, 1].values\n",
    "\n",
    "print(f\"Dimesnsion of x is {x.ndim}\\nDimesnsion of y is {y.ndim}\")\n",
    "print(\"Features(Hours) {}\\n Label(Scores) {}\".format(x,y))"
   ]
  },
  {
   "cell_type": "code",
   "execution_count": 12,
   "metadata": {},
   "outputs": [],
   "source": [
    "# Divide dataset(x,y) into testing data as xtest,ytest and training data as xtrain,ytrain\n",
    "import sklearn\n",
    "from sklearn.model_selection import train_test_split\n",
    "\n",
    "xtrain,xtest,ytrain,ytest = train_test_split(x, y, test_size=1/3, random_state=1) # random_size: reproduce same dataset for training and testing after running algorithm everytime"
   ]
  },
  {
   "cell_type": "code",
   "execution_count": 16,
   "metadata": {},
   "outputs": [
    {
     "data": {
      "text/plain": [
       "LinearRegression(copy_X=True, fit_intercept=True, n_jobs=None, normalize=False)"
      ]
     },
     "execution_count": 16,
     "metadata": {},
     "output_type": "execute_result"
    }
   ],
   "source": [
    "# Creating simple linear model\n",
    "from sklearn.linear_model import LinearRegression\n",
    "model = LinearRegression()  # y=ax+b\n",
    "\n",
    "Mymodel = model.fit(xtrain,ytrain)\n",
    "Mymodel"
   ]
  },
  {
   "cell_type": "code",
   "execution_count": 17,
   "metadata": {},
   "outputs": [],
   "source": [
    "# Prediction by our model\n",
    "y_pred = Mymodel.predict(xtest)"
   ]
  },
  {
   "cell_type": "code",
   "execution_count": 20,
   "metadata": {},
   "outputs": [
    {
     "name": "stdout",
     "output_type": "stream",
     "text": [
      "Actual Data [40 21 33 34 42 66 58 12]\n",
      "Predicted Data [40.50038393 24.63061172 32.56549782 34.54921935 42.48410545 64.30504223\n",
      " 54.3864346  10.74456104]\n"
     ]
    }
   ],
   "source": [
    "# Difference of y_pred(predicted data by our model) and ytest(actual data in dataset)\n",
    "print(f\"Actual Data {ytest}\\nPredicted Data {y_pred}\")"
   ]
  },
  {
   "cell_type": "code",
   "execution_count": 22,
   "metadata": {},
   "outputs": [
    {
     "data": {
      "text/html": [
       "<div>\n",
       "<style scoped>\n",
       "    .dataframe tbody tr th:only-of-type {\n",
       "        vertical-align: middle;\n",
       "    }\n",
       "\n",
       "    .dataframe tbody tr th {\n",
       "        vertical-align: top;\n",
       "    }\n",
       "\n",
       "    .dataframe thead th {\n",
       "        text-align: right;\n",
       "    }\n",
       "</style>\n",
       "<table border=\"1\" class=\"dataframe\">\n",
       "  <thead>\n",
       "    <tr style=\"text-align: right;\">\n",
       "      <th></th>\n",
       "      <th>Hours</th>\n",
       "      <th>Scores</th>\n",
       "    </tr>\n",
       "  </thead>\n",
       "  <tbody>\n",
       "    <tr>\n",
       "      <th>18</th>\n",
       "      <td>9.6</td>\n",
       "      <td>96</td>\n",
       "    </tr>\n",
       "    <tr>\n",
       "      <th>19</th>\n",
       "      <td>4.3</td>\n",
       "      <td>42</td>\n",
       "    </tr>\n",
       "    <tr>\n",
       "      <th>20</th>\n",
       "      <td>4.1</td>\n",
       "      <td>40</td>\n",
       "    </tr>\n",
       "    <tr>\n",
       "      <th>21</th>\n",
       "      <td>3.0</td>\n",
       "      <td>30</td>\n",
       "    </tr>\n",
       "    <tr>\n",
       "      <th>22</th>\n",
       "      <td>2.6</td>\n",
       "      <td>25</td>\n",
       "    </tr>\n",
       "  </tbody>\n",
       "</table>\n",
       "</div>"
      ],
      "text/plain": [
       "    Hours  Scores\n",
       "18    9.6      96\n",
       "19    4.3      42\n",
       "20    4.1      40\n",
       "21    3.0      30\n",
       "22    2.6      25"
      ]
     },
     "execution_count": 22,
     "metadata": {},
     "output_type": "execute_result"
    }
   ],
   "source": [
    "df.tail()"
   ]
  },
  {
   "cell_type": "code",
   "execution_count": 23,
   "metadata": {},
   "outputs": [
    {
     "data": {
      "text/plain": [
       "array([42.48410545])"
      ]
     },
     "execution_count": 23,
     "metadata": {},
     "output_type": "execute_result"
    }
   ],
   "source": [
    "# predict scores for '4.3' hours\n",
    "y_pred = Mymodel.predict([[4.3]])\n",
    "y_pred"
   ]
  },
  {
   "cell_type": "code",
   "execution_count": 26,
   "metadata": {},
   "outputs": [],
   "source": [
    "# y = mx+c where c is intercept, m is coefficient, x is features(independent variable) and y is label(dependent variable)"
   ]
  },
  {
   "cell_type": "code",
   "execution_count": 27,
   "metadata": {},
   "outputs": [
    {
     "data": {
      "text/plain": [
       "array([9.91860763])"
      ]
     },
     "execution_count": 27,
     "metadata": {},
     "output_type": "execute_result"
    }
   ],
   "source": [
    "m = Mymodel.coef_ # coefficient value calculated by our model \n",
    "m"
   ]
  },
  {
   "cell_type": "code",
   "execution_count": 28,
   "metadata": {},
   "outputs": [
    {
     "data": {
      "text/plain": [
       "-0.16590734578961275"
      ]
     },
     "execution_count": 28,
     "metadata": {},
     "output_type": "execute_result"
    }
   ],
   "source": [
    "c = Mymodel.intercept_  # intercept value calculated by our model\n",
    "c"
   ]
  },
  {
   "cell_type": "code",
   "execution_count": null,
   "metadata": {},
   "outputs": [],
   "source": [
    "# To check above value is correct or incorrect we put this value in below equation for score(x)=4.3 which is calculated previously"
   ]
  },
  {
   "cell_type": "code",
   "execution_count": 29,
   "metadata": {},
   "outputs": [
    {
     "data": {
      "text/plain": [
       "array([42.48410545])"
      ]
     },
     "execution_count": 29,
     "metadata": {},
     "output_type": "execute_result"
    }
   ],
   "source": [
    "x = 4.3\n",
    "y = m*x+c\n",
    "y"
   ]
  },
  {
   "cell_type": "code",
   "execution_count": 30,
   "metadata": {},
   "outputs": [
    {
     "data": {
      "text/plain": [
       "array([42.48410545])"
      ]
     },
     "execution_count": 30,
     "metadata": {},
     "output_type": "execute_result"
    }
   ],
   "source": [
    "y_pred = Mymodel.predict([[4.3]])\n",
    "y_pred"
   ]
  },
  {
   "cell_type": "code",
   "execution_count": 41,
   "metadata": {},
   "outputs": [
    {
     "data": {
      "image/png": "[encoded data removed]",
      "text/plain": [
       "<Figure size 432x288 with 1 Axes>"
      ]
     },
     "metadata": {
      "needs_background": "light"
     },
     "output_type": "display_data"
    }
   ],
   "source": [
    "# visualize line by scatter plot\n",
    "plt.scatter(xtrain,ytrain,color='red')\n",
    "plt.plot(xtrain, Mymodel.predict(xtrain), color='black', label=\"Line Of Regression\")\n",
    "plt.title('Hours VS Scores Graph')\n",
    "plt.xlabel('Hours')\n",
    "plt.ylabel('Scores')\n",
    "plt.legend()\n",
    "plt.show()"
   ]
  },
  {
   "cell_type": "code",
   "execution_count": 38,
   "metadata": {},
   "outputs": [],
   "source": [
    "# accuracy and mean_squared_error\n",
    "from sklearn.metrics import r2_score, mean_squared_error\n",
    "\n",
    "y_pred = Mymodel.predict(xtest)  # prdicted values\n",
    "a = r2_score(ytest,y_pred)  # accuracy\n",
    "msr = mean_squared_error(ytest,y_pred)  #  mean_squared_error\n",
    "\n",
    "# The variance inflation factor (VIF) \n",
    "# VIF quantifies the extent of correlation between one predictor and the other predictors in a model.\n",
    "\n",
    "vif = 1/1-(r2_score(ytest,y_pred))"
   ]
  },
  {
   "cell_type": "code",
   "execution_count": 40,
   "metadata": {},
   "outputs": [
    {
     "name": "stdout",
     "output_type": "stream",
     "text": [
      "y = mx + c\n",
      "coefficient(m): [9.91860763]\n",
      "Intercept(c): -0.16590734578961275\n",
      "Accuracy(a): 0.9856694359125361\n",
      "Mean Squared Error(msr): 3.9579226689064453\n",
      "variance Inflation Factor(VIF): 0.014330564087463915\n"
     ]
    }
   ],
   "source": [
    "print(\"y = mx + c\")\n",
    "print(\"coefficient(m):\",m)\n",
    "print(\"Intercept(c):\",c)\n",
    "print(\"Accuracy(a):\",a)\n",
    "print(\"Mean Squared Error(msr):\",msr)\n",
    "print(\"variance Inflation Factor(VIF):\",vif)"
   ]
  }
 ],
 "metadata": {
  "kernelspec": {
   "display_name": "Python 3",
   "language": "python",
   "name": "python3"
  },
  "language_info": {
   "codemirror_mode": {
    "name": "ipython",
    "version": 3
   },
   "file_extension": ".py",
   "mimetype": "text/x-python",
   "name": "python",
   "nbconvert_exporter": "python",
   "pygments_lexer": "ipython3",
   "version": "3.7.6"
  }
 },
 "nbformat": 4,
 "nbformat_minor": 4
}
