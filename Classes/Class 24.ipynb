{
 "cells": [
  {
   "cell_type": "markdown",
   "id": "843bb66c",
   "metadata": {},
   "source": [
    "# GUI and tkinter in Python"
   ]
  },
  {
   "cell_type": "code",
   "execution_count": 1,
   "id": "300d8815",
   "metadata": {},
   "outputs": [],
   "source": [
    "import tkinter"
   ]
  },
  {
   "cell_type": "code",
   "execution_count": 4,
   "id": "8c23d229",
   "metadata": {},
   "outputs": [],
   "source": [
    "window = tkinter.Tk() # Tk() function is used to create window\n",
    "window.title('Goeduhub GUI')\n",
    "label = tkinter.Label(window, text=\"hello\").pack()  # label() function is used to insert some text in window\n",
    "window.mainloop() # To run the Tkinter event loop"
   ]
  },
  {
   "cell_type": "code",
   "execution_count": 9,
   "id": "d95dac20",
   "metadata": {},
   "outputs": [],
   "source": [
    "import tkinter as tk \n",
    "\n",
    "window= tk.Tk() \n",
    "\n",
    "window.title('Counting Seconds') \n",
    "\n",
    "button = tk.Button(window, text='Goedehub technologies', width=50, bg=\"red\") \n",
    "\n",
    "window.geometry('350x200')\n",
    "\n",
    "button.pack() \n",
    "\n",
    "window.mainloop()"
   ]
  },
  {
   "cell_type": "code",
   "execution_count": 21,
   "id": "a263a273",
   "metadata": {},
   "outputs": [
    {
     "ename": "SyntaxError",
     "evalue": "positional argument follows keyword argument (<ipython-input-21-1318d9942e96>, line 16)",
     "output_type": "error",
     "traceback": [
      "\u001b[1;36m  File \u001b[1;32m\"<ipython-input-21-1318d9942e96>\"\u001b[1;36m, line \u001b[1;32m16\u001b[0m\n\u001b[1;33m    bt = Button(window, text='Enter', bg='yellow', fg='red', command=message,clicked)\u001b[0m\n\u001b[1;37m                                                                            ^\u001b[0m\n\u001b[1;31mSyntaxError\u001b[0m\u001b[1;31m:\u001b[0m positional argument follows keyword argument\n"
     ]
    }
   ],
   "source": [
    "from tkinter import *\n",
    "from tkinter.ttk import *\n",
    "\n",
    "window = Tk()\n",
    "txt = Entry(window, width=15)\n",
    "txt.grid(column=2, row=0)\n",
    "\n",
    "def clicked():\n",
    "    mytext = \"Welcome to \"+txt.get()\n",
    "    l1.configure(text=mytext)\n",
    "    \n",
    "def message():\n",
    "    messagebox.showinfo('Title', 'Hello Everyone')\n",
    "    \n",
    "    \n",
    "bt = Button(window, text='Enter', bg='yellow', fg='red', command=message,clicked)\n",
    "l1 = Label(window, text='Goedehub')\n",
    "window.geometry('350x200')\n",
    "\n",
    "         \n",
    "l1.grid(column=0, row=0)             \n",
    "bt.grid(column=1, row=0)  # grid() is used to set position of the columns\n",
    "\n",
    "window.mainloop()"
   ]
  },
  {
   "cell_type": "code",
   "execution_count": 17,
   "id": "862866e6",
   "metadata": {},
   "outputs": [],
   "source": [
    "from tkinter import *\n",
    "from tkinter.ttk import *\n",
    "window = Tk()\n",
    "\n",
    "combo = Combobox(window)\n",
    "combo['values'] = ('a','b','c','d')\n",
    "combo.grid(column=0, row=0)\n",
    "window.geometry('350x200')\n",
    "\n",
    "\n",
    "window.mainloop()"
   ]
  }
 ],
 "metadata": {
  "kernelspec": {
   "display_name": "Python 3",
   "language": "python",
   "name": "python3"
  },
  "language_info": {
   "codemirror_mode": {
    "name": "ipython",
    "version": 3
   },
   "file_extension": ".py",
   "mimetype": "text/x-python",
   "name": "python",
   "nbconvert_exporter": "python",
   "pygments_lexer": "ipython3",
   "version": "3.7.10"
  }
 },
 "nbformat": 4,
 "nbformat_minor": 5
}
