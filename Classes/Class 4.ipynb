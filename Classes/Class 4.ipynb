{
 "cells": [
  {
   "cell_type": "markdown",
   "metadata": {},
   "source": [
    "# Numpy in Python"
   ]
  },
  {
   "cell_type": "code",
   "execution_count": 2,
   "metadata": {},
   "outputs": [
    {
     "name": "stdout",
     "output_type": "stream",
     "text": [
      "Requirement already satisfied: numpy in c:\\users\\lenovo\\anaconda3\\lib\\site-packages (1.18.1)\n",
      "Note: you may need to restart the kernel to use updated packages.\n"
     ]
    }
   ],
   "source": [
    "pip install numpy"
   ]
  },
  {
   "cell_type": "code",
   "execution_count": 2,
   "metadata": {},
   "outputs": [],
   "source": [
    "import numpy as np"
   ]
  },
  {
   "cell_type": "code",
   "execution_count": 4,
   "metadata": {},
   "outputs": [
    {
     "name": "stdout",
     "output_type": "stream",
     "text": [
      "[1 2 3]\n",
      "<class 'numpy.ndarray'>\n"
     ]
    }
   ],
   "source": [
    "# create 1-D array\n",
    "a = np.array([1,2,3])\n",
    "print(a)\n",
    "print(type(a))"
   ]
  },
  {
   "cell_type": "code",
   "execution_count": 5,
   "metadata": {},
   "outputs": [
    {
     "name": "stdout",
     "output_type": "stream",
     "text": [
      "[[1 2 3]\n",
      " [4 5 6]]\n",
      "<class 'numpy.ndarray'>\n"
     ]
    }
   ],
   "source": [
    "# create 2-D array (Collections of 1-D array)\n",
    "a = np.array([[1,2,3],[4,5,6]])\n",
    "print(a)\n",
    "print(type(a))"
   ]
  },
  {
   "cell_type": "code",
   "execution_count": 9,
   "metadata": {},
   "outputs": [
    {
     "data": {
      "text/plain": [
       "array([[0., 0., 0.],\n",
       "       [0., 0., 0.]])"
      ]
     },
     "execution_count": 9,
     "metadata": {},
     "output_type": "execute_result"
    }
   ],
   "source": [
    "# create array of zeros by providing rows and columns in it\n",
    "np.zeros((2,3))\n"
   ]
  },
  {
   "cell_type": "code",
   "execution_count": 15,
   "metadata": {},
   "outputs": [
    {
     "data": {
      "text/plain": [
       "array([ 2,  4,  6,  8, 10, 12, 14, 16, 18, 20])"
      ]
     },
     "execution_count": 15,
     "metadata": {},
     "output_type": "execute_result"
    }
   ],
   "source": [
    "# create array of regulater interval values, arange(start,stop,difference)\n",
    "np.arange(2,21,2)"
   ]
  },
  {
   "cell_type": "code",
   "execution_count": 21,
   "metadata": {},
   "outputs": [
    {
     "data": {
      "text/plain": [
       "array([1. , 1.6, 2.2, 2.8, 3.4, 4. ])"
      ]
     },
     "execution_count": 21,
     "metadata": {},
     "output_type": "execute_result"
    }
   ],
   "source": [
    "# create evenly spaced numbers over a specified interval, linspace(start,stop,no.of values to be generated)\n",
    "np.linspace(1,4,6)"
   ]
  },
  {
   "cell_type": "code",
   "execution_count": 3,
   "metadata": {},
   "outputs": [
    {
     "data": {
      "text/plain": [
       "array([[[0, 0],\n",
       "        [1, 1],\n",
       "        [2, 2]],\n",
       "\n",
       "       [[0, 1],\n",
       "        [0, 1],\n",
       "        [0, 1]]])"
      ]
     },
     "execution_count": 3,
     "metadata": {},
     "output_type": "execute_result"
    }
   ],
   "source": [
    "# create set of arrays of each element is represent in row as well as columns\n",
    "np.indices((3,2))"
   ]
  },
  {
   "cell_type": "code",
   "execution_count": 4,
   "metadata": {},
   "outputs": [
    {
     "name": "stdout",
     "output_type": "stream",
     "text": [
      "int32\n"
     ]
    }
   ],
   "source": [
    "# Datatype of array\n",
    "a = np.array([1,2,3])\n",
    "print(a.dtype)   # shows data type of elements which are stores inside numpy array"
   ]
  },
  {
   "cell_type": "raw",
   "metadata": {},
   "source": [
    "List VS Numpy Arrays\n",
    "Numpy Arrays take-\n",
    "1) less memory\n",
    "2) fast execution\n",
    "3) convinient to use\n",
    "compiaired to List"
   ]
  },
  {
   "cell_type": "markdown",
   "metadata": {},
   "source": [
    "1) Compair Memory for list and numpy arrays:"
   ]
  },
  {
   "cell_type": "code",
   "execution_count": 27,
   "metadata": {},
   "outputs": [
    {
     "name": "stdout",
     "output_type": "stream",
     "text": [
      "28\n",
      "1000\n",
      "Memory taken by list is: 28000\n"
     ]
    }
   ],
   "source": [
    "l = range(1000)\n",
    "a = 1\n",
    "import sys # module inside python to calculate size\n",
    "print(sys.getsizeof(a))    # getsizeof() calculate size of particular predefined data type (e.g int,float,char)\n",
    "print(len(l))              # calculate size of list\n",
    "print(\"Memory taken by list is:\",sys.getsizeof(a) * len(l)) # Determines total memory size in bytes taken by list\n"
   ]
  },
  {
   "cell_type": "code",
   "execution_count": 28,
   "metadata": {},
   "outputs": [
    {
     "name": "stdout",
     "output_type": "stream",
     "text": [
      "4\n",
      "1000\n",
      "Memory taken by numpy array is: 4000\n"
     ]
    }
   ],
   "source": [
    "a = np.arange(1000)\n",
    "print(a.itemsize)  # itemsize property calculate memory size of individual element inside array\n",
    "print(a.size)      # size property calculate size of array\n",
    "print(\"Memory taken by numpy array is:\",a.size * a.itemsize) # Determines total memory size in bytes taken by numpy array"
   ]
  },
  {
   "cell_type": "markdown",
   "metadata": {},
   "source": [
    "2) Compair Speed for list and numpy arrays:"
   ]
  },
  {
   "cell_type": "code",
   "execution_count": 29,
   "metadata": {},
   "outputs": [
    {
     "name": "stdout",
     "output_type": "stream",
     "text": [
      "Time taken by list operation is: 135.3132724761963\n"
     ]
    }
   ],
   "source": [
    "import time # module inside python to check speed\n",
    "import sys  #  module inside python to calculate size\n",
    "\n",
    "size = 1000000\n",
    "l1=range(size)\n",
    "l2=range(size)\n",
    "\n",
    "start = time.time()  # before operation on list start timer using 'time' module\n",
    "result = [(x+y) for x,y in zip(l1,l2)]  # list operation\n",
    "print(\"Time taken by list operation is:\",(time.time() - start)*1000) \n",
    "# substracting start time from current time will give time(in microsecond) taken by list operation\n"
   ]
  },
  {
   "cell_type": "code",
   "execution_count": 30,
   "metadata": {},
   "outputs": [
    {
     "name": "stdout",
     "output_type": "stream",
     "text": [
      "Time taken by Numpy array operation is: 16.92986488342285\n"
     ]
    }
   ],
   "source": [
    "n1 = np.arange(size)\n",
    "n2 = np.arange(size)\n",
    "\n",
    "start = time.time()  \n",
    "result = n1+n2     # Numpy array operation\n",
    "print(\"Time taken by Numpy array operation is:\",(time.time() - start)*1000) "
   ]
  },
  {
   "cell_type": "markdown",
   "metadata": {},
   "source": [
    "3) Convinient to use Numpy arrays than list because we can do the big calcuations easily without writing any loops and anything"
   ]
  },
  {
   "cell_type": "markdown",
   "metadata": {},
   "source": [
    "# Numpy Operations"
   ]
  },
  {
   "cell_type": "code",
   "execution_count": 33,
   "metadata": {},
   "outputs": [
    {
     "name": "stdout",
     "output_type": "stream",
     "text": [
      "2\n"
     ]
    }
   ],
   "source": [
    "a = np.array([[1,2,3],[4,5,6]]) # 2-D array\n",
    "print(a.ndim)                   # ndim property will give the dimension of particular array"
   ]
  },
  {
   "cell_type": "code",
   "execution_count": 34,
   "metadata": {},
   "outputs": [
    {
     "name": "stdout",
     "output_type": "stream",
     "text": [
      "4\n"
     ]
    }
   ],
   "source": [
    "print(a.itemsize)  # itemsize property calculate memory size of individual element inside array"
   ]
  },
  {
   "cell_type": "code",
   "execution_count": 35,
   "metadata": {},
   "outputs": [
    {
     "name": "stdout",
     "output_type": "stream",
     "text": [
      "int32\n"
     ]
    }
   ],
   "source": [
    "print(a.dtype)  # shows data type of elements which are stores inside numpy array"
   ]
  },
  {
   "cell_type": "code",
   "execution_count": 36,
   "metadata": {},
   "outputs": [
    {
     "name": "stdout",
     "output_type": "stream",
     "text": [
      "(2, 3)\n"
     ]
    }
   ],
   "source": [
    "print(a.shape)  # shape property gives no. of rows and no. of coloumns in numpy array"
   ]
  },
  {
   "cell_type": "code",
   "execution_count": 37,
   "metadata": {},
   "outputs": [
    {
     "name": "stdout",
     "output_type": "stream",
     "text": [
      "6\n"
     ]
    }
   ],
   "source": [
    "print(a.size)  # size property give total no. of elements inside the numpy array"
   ]
  },
  {
   "cell_type": "markdown",
   "metadata": {},
   "source": [
    "### Reshape Function (when we want to change No. of rows and coloumns of already defined Numpy array then this function used)"
   ]
  },
  {
   "cell_type": "code",
   "execution_count": 41,
   "metadata": {},
   "outputs": [
    {
     "name": "stdout",
     "output_type": "stream",
     "text": [
      "Before: (2, 3)\n",
      "After: (3, 2)\n"
     ]
    }
   ],
   "source": [
    "print(\"Before:\",a.shape)\n",
    "a = a.reshape(3,2) # np.reshape(a,(3,2))\n",
    "print(\"After:\",a.shape)"
   ]
  },
  {
   "cell_type": "markdown",
   "metadata": {},
   "source": [
    "### Slicing and Indexing"
   ]
  },
  {
   "cell_type": "code",
   "execution_count": 42,
   "metadata": {},
   "outputs": [
    {
     "data": {
      "text/plain": [
       "array([[1, 2],\n",
       "       [3, 4],\n",
       "       [5, 6]])"
      ]
     },
     "execution_count": 42,
     "metadata": {},
     "output_type": "execute_result"
    }
   ],
   "source": [
    "a"
   ]
  },
  {
   "cell_type": "markdown",
   "metadata": {},
   "source": [
    "Indexing access only one element at a time form array"
   ]
  },
  {
   "cell_type": "code",
   "execution_count": 43,
   "metadata": {},
   "outputs": [
    {
     "data": {
      "text/plain": [
       "1"
      ]
     },
     "execution_count": 43,
     "metadata": {},
     "output_type": "execute_result"
    }
   ],
   "source": [
    "a[0,0]"
   ]
  },
  {
   "cell_type": "code",
   "execution_count": 72,
   "metadata": {},
   "outputs": [
    {
     "data": {
      "text/plain": [
       "array([2, 5])"
      ]
     },
     "execution_count": 72,
     "metadata": {},
     "output_type": "execute_result"
    }
   ],
   "source": [
    "# If we want 2 and 5 elemnts only from array\n",
    "a[[0,2],[1,0]]  # a[[put rows index],[put columns index]]"
   ]
  },
  {
   "cell_type": "markdown",
   "metadata": {},
   "source": [
    "Slicing access set of elements at a time from array (we can do slicing on both row as well as coloumns)"
   ]
  },
  {
   "cell_type": "code",
   "execution_count": 46,
   "metadata": {},
   "outputs": [
    {
     "name": "stdout",
     "output_type": "stream",
     "text": [
      "[2 4 6]\n",
      "[4]\n"
     ]
    }
   ],
   "source": [
    "print(a[0:,1]) # a[row slicing,coloumn slicing]\n",
    "print(a[1,1:])"
   ]
  },
  {
   "cell_type": "code",
   "execution_count": 48,
   "metadata": {},
   "outputs": [
    {
     "name": "stdout",
     "output_type": "stream",
     "text": [
      "Minimum value in array is: 1\n",
      "Maximum value in array is: 6\n",
      "Totalsum of values in array is: 21\n"
     ]
    }
   ],
   "source": [
    "print(\"Minimum value in array is:\",a.min()) # min element in Numpy array\n",
    "print(\"Maximum value in array is:\",a.max()) # max element in Numpy array\n",
    "print(\"Totalsum of values in array is:\",a.sum()) # Total sum of elements in Numpy array"
   ]
  },
  {
   "cell_type": "code",
   "execution_count": 50,
   "metadata": {},
   "outputs": [
    {
     "name": "stdout",
     "output_type": "stream",
     "text": [
      "[[1 2]\n",
      " [3 4]\n",
      " [5 6]]\n"
     ]
    }
   ],
   "source": [
    "print(a)"
   ]
  },
  {
   "cell_type": "code",
   "execution_count": 49,
   "metadata": {},
   "outputs": [
    {
     "name": "stdout",
     "output_type": "stream",
     "text": [
      "[ 9 12]\n",
      "[ 3  7 11]\n"
     ]
    }
   ],
   "source": [
    "print(np.sum(a, axis=0))  # calculate coulumns sum\n",
    "print(np.sum(a, axis=1))  # calculate rows sum"
   ]
  },
  {
   "cell_type": "markdown",
   "metadata": {},
   "source": [
    "# Numpy Array Mathematical Opearations"
   ]
  },
  {
   "cell_type": "code",
   "execution_count": 67,
   "metadata": {},
   "outputs": [
    {
     "name": "stdout",
     "output_type": "stream",
     "text": [
      "X is:\n",
      " [[1 2]\n",
      " [3 4]] \n",
      "\n",
      "y is:\n",
      " [[5 6]\n",
      " [7 8]] \n",
      "\n",
      "Addition of two array is:\n",
      " [[ 6  8]\n",
      " [10 12]]\n",
      "sutraction of two array is:\n",
      " [[-4 -4]\n",
      " [-4 -4]]\n",
      "Multiplication of two array is:\n",
      " [[ 5 12]\n",
      " [21 32]]\n",
      "Dividation of two array is:\n",
      " [[0.2        0.33333333]\n",
      " [0.42857143 0.5       ]]\n",
      "Square root of 1st array is:\n",
      " [[1.         1.41421356]\n",
      " [1.73205081 2.        ]]\n"
     ]
    }
   ],
   "source": [
    "import numpy as np\n",
    "\n",
    "x = np.array([[1,2],[3,4]])\n",
    "y = np.array([[5,6],[7,8]])\n",
    "\n",
    "print(\"X is:\\n\",x,\"\\n\")\n",
    "print(\"y is:\\n\",y,\"\\n\")\n",
    "\n",
    "print(\"Addition of two array is:\\n\",np.add(x,y)) # (x+y) \n",
    "\n",
    "print(\"sutraction of two array is:\\n\",np.subtract(x,y)) # (x-y)\n",
    "\n",
    "print(\"Multiplication of two array is:\\n\",np.multiply(x,y)) # (x*y)\n",
    "\n",
    "print(\"Dividation of two array is:\\n\",np.divide(x,y)) # (x/y)\n",
    "\n",
    "print(\"Square root of 1st array is:\\n\",np.sqrt(x))\n",
    "\n"
   ]
  },
  {
   "cell_type": "code",
   "execution_count": 71,
   "metadata": {},
   "outputs": [
    {
     "name": "stdout",
     "output_type": "stream",
     "text": [
      "2-D array: 2\n",
      "[1 2 3 4 5 6]\n",
      "1-D array: 2\n"
     ]
    }
   ],
   "source": [
    "print(\"2-D array:\",a.ndim)\n",
    "print(a.flatten())   # flatten() Return a copy of the array collapsed into one dimension.\n",
    "print(\"1-D array:\",a.ndim) "
   ]
  }
 ],
 "metadata": {
  "kernelspec": {
   "display_name": "Python 3",
   "language": "python",
   "name": "python3"
  },
  "language_info": {
   "codemirror_mode": {
    "name": "ipython",
    "version": 3
   },
   "file_extension": ".py",
   "mimetype": "text/x-python",
   "name": "python",
   "nbconvert_exporter": "python",
   "pygments_lexer": "ipython3",
   "version": "3.7.6"
  }
 },
 "nbformat": 4,
 "nbformat_minor": 4
}
