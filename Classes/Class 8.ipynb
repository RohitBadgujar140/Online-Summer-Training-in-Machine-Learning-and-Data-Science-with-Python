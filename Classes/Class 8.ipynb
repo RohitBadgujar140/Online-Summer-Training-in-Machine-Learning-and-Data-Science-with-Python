{
 "cells": [
  {
   "cell_type": "markdown",
   "metadata": {},
   "source": [
    "# Gradient Descent"
   ]
  },
  {
   "cell_type": "markdown",
   "metadata": {},
   "source": [
    "Without using sklearn library we are going to find values for coefficient and intercept for line equation y = mx+c where\n",
    "m is coefficient and c is intercept so this is done with using Gradient Descent"
   ]
  },
  {
   "cell_type": "code",
   "execution_count": 12,
   "metadata": {},
   "outputs": [],
   "source": [
    "import numpy as np\n",
    "import pandas as pd\n",
    "import math\n",
    "import matplotlib.pyplot as plt"
   ]
  },
  {
   "cell_type": "code",
   "execution_count": 16,
   "metadata": {},
   "outputs": [],
   "source": [
    "#x = np.array([1,2,3,4,5]) # y=3x+2\n",
    "#y = np.array([5,8,11,14,17])\n",
    "\n",
    "def Gradient(x,y):\n",
    "    a=0\n",
    "    b=0\n",
    "    rate=0.001\n",
    "    n=len(x)\n",
    "    plt.scatter(x,y,color='red')\n",
    "    old_cost=0\n",
    "    for i in range(1000):\n",
    "        y_pred = a*x+b\n",
    "        cost = (1/n)*sum([value**2 for value in (y-y_pred)])\n",
    "        #print(f\"a={a} | b={b} | i={i} | cost={cost}\")\n",
    "        plt.plot(x,y_pred)\n",
    "    \n",
    "        da = -(2/n)*sum(x*(y-y_pred))  # Derivative of Mean Square Error(MSE) with respect to constant a\n",
    "        db = -(2/n)*sum(y-y_pred)      # Derivative of Mean Square Error(MSE) with respect to constant b\n",
    "        a = a - rate*da\n",
    "        b = b - rate*db\n",
    "        \n",
    "        if math.isclose(cost,old_cost):\n",
    "            break\n",
    "        old_cost = cost\n",
    "        return a,b"
   ]
  },
  {
   "cell_type": "code",
   "execution_count": 17,
   "metadata": {},
   "outputs": [
    {
     "name": "stdout",
     "output_type": "stream",
     "text": [
      "    YearsExperience    Salary\n",
      "0               1.1   39343.0\n",
      "1               1.3   46205.0\n",
      "2               1.5   37731.0\n",
      "3               2.0   43525.0\n",
      "4               2.2   39891.0\n",
      "5               2.9   56642.0\n",
      "6               3.0   60150.0\n",
      "7               3.2   54445.0\n",
      "8               3.2   64445.0\n",
      "9               3.7   57189.0\n",
      "10              3.9   63218.0\n",
      "11              4.0   55794.0\n",
      "12              4.0   56957.0\n",
      "13              4.1   57081.0\n",
      "14              4.5   61111.0\n",
      "15              4.9   67938.0\n",
      "16              5.1   66029.0\n",
      "17              5.3   83088.0\n",
      "18              5.9   81363.0\n",
      "19              6.0   93940.0\n",
      "20              6.8   91738.0\n",
      "21              7.1   98273.0\n",
      "22              7.9  101302.0\n",
      "23              8.2  113812.0\n",
      "24              8.7  109431.0\n",
      "25              9.0  105582.0\n",
      "26              9.5  116969.0\n",
      "27              9.6  112635.0\n",
      "28             10.3  122391.0\n",
      "29             10.5  121872.0\n"
     ]
    }
   ],
   "source": [
    "df = pd.read_csv(\"salaryData.csv\")\n",
    "print(df)"
   ]
  },
  {
   "cell_type": "code",
   "execution_count": 18,
   "metadata": {},
   "outputs": [
    {
     "name": "stdout",
     "output_type": "stream",
     "text": [
      "Coefficient(m)=954.7974 | Intercept(c)=152.006\n"
     ]
    },
    {
     "data": {
      "image/png": "[encoded data removed]",
      "text/plain": [
       "<Figure size 432x288 with 1 Axes>"
      ]
     },
     "metadata": {
      "needs_background": "light"
     },
     "output_type": "display_data"
    }
   ],
   "source": [
    "x = np.array(df['YearsExperience'])\n",
    "y = np.array(df['Salary'])\n",
    " \n",
    "m,c = Gradient(x,y)   # y=mx+c\n",
    "print(f\"Coefficient(m)={m} | Intercept(c)={c}\")"
   ]
  }
 ],
 "metadata": {
  "kernelspec": {
   "display_name": "Python 3",
   "language": "python",
   "name": "python3"
  },
  "language_info": {
   "codemirror_mode": {
    "name": "ipython",
    "version": 3
   },
   "file_extension": ".py",
   "mimetype": "text/x-python",
   "name": "python",
   "nbconvert_exporter": "python",
   "pygments_lexer": "ipython3",
   "version": "3.7.6"
  }
 },
 "nbformat": 4,
 "nbformat_minor": 4
}
