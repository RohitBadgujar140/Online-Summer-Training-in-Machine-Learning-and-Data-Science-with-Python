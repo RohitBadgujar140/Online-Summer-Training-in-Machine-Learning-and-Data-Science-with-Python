{
 "cells": [
  {
   "cell_type": "markdown",
   "metadata": {},
   "source": [
    "# Python Modules"
   ]
  },
  {
   "cell_type": "markdown",
   "metadata": {},
   "source": [
    "Module is a simple '.py' executable file which contain some logical code.\n",
    "\n",
    "Package(namespace) is a simple directery that organizes different modules.\n",
    "\n",
    "Library is having a collection of related functionality of codes that allows you to perform many tasks without writing your code."
   ]
  },
  {
   "cell_type": "code",
   "execution_count": 8,
   "metadata": {},
   "outputs": [
    {
     "name": "stdout",
     "output_type": "stream",
     "text": [
      "['__doc__', '__loader__', '__name__', '__package__', '__spec__', 'acos', 'acosh', 'asin', 'asinh', 'atan', 'atan2', 'atanh', 'ceil', 'copysign', 'cos', 'cosh', 'degrees', 'e', 'erf', 'erfc', 'exp', 'expm1', 'fabs', 'factorial', 'floor', 'fmod', 'frexp', 'fsum', 'gamma', 'gcd', 'hypot', 'inf', 'isclose', 'isfinite', 'isinf', 'isnan', 'ldexp', 'lgamma', 'log', 'log10', 'log1p', 'log2', 'modf', 'nan', 'pi', 'pow', 'radians', 'remainder', 'sin', 'sinh', 'sqrt', 'tan', 'tanh', 'tau', 'trunc']\n"
     ]
    },
    {
     "data": {
      "text/plain": [
       "2.0"
      ]
     },
     "execution_count": 8,
     "metadata": {},
     "output_type": "execute_result"
    }
   ],
   "source": [
    "import math as m\n",
    "print(dir(m))\n",
    "m.sqrt(4)"
   ]
  },
  {
   "cell_type": "code",
   "execution_count": 6,
   "metadata": {},
   "outputs": [
    {
     "name": "stdout",
     "output_type": "stream",
     "text": [
      "['Calendar', 'EPOCH', 'FRIDAY', 'February', 'HTMLCalendar', 'IllegalMonthError', 'IllegalWeekdayError', 'January', 'LocaleHTMLCalendar', 'LocaleTextCalendar', 'MONDAY', 'SATURDAY', 'SUNDAY', 'THURSDAY', 'TUESDAY', 'TextCalendar', 'WEDNESDAY', '_EPOCH_ORD', '__all__', '__builtins__', '__cached__', '__doc__', '__file__', '__loader__', '__name__', '__package__', '__spec__', '_colwidth', '_locale', '_localized_day', '_localized_month', '_spacing', 'c', 'calendar', 'datetime', 'day_abbr', 'day_name', 'different_locale', 'error', 'firstweekday', 'format', 'formatstring', 'isleap', 'leapdays', 'main', 'mdays', 'month', 'month_abbr', 'month_name', 'monthcalendar', 'monthlen', 'monthrange', 'nextmonth', 'prcal', 'prevmonth', 'prmonth', 'prweek', 'repeat', 'setfirstweekday', 'sys', 'timegm', 'week', 'weekday', 'weekheader']\n"
     ]
    },
    {
     "data": {
      "text/plain": [
       "False"
      ]
     },
     "execution_count": 6,
     "metadata": {},
     "output_type": "execute_result"
    }
   ],
   "source": [
    "import calendar as c\n",
    "print(dir(c))\n",
    "c.isleap(2021)"
   ]
  },
  {
   "cell_type": "code",
   "execution_count": 10,
   "metadata": {},
   "outputs": [
    {
     "name": "stdout",
     "output_type": "stream",
     "text": [
      "\n",
      "Please wait a moment while I gather a list of all available modules...\n",
      "\n",
      "Calc                brain_subprocess    matplotlib          snowballstemmer\n",
      "Crypto              brain_threading     mccabe              socket\n",
      "Cython              brain_typing        menuinst            socketserver\n",
      "IPython             brain_uuid          mimetypes           socks\n",
      "OpenSSL             bs4                 mistune             sockshandler\n",
      "PIL                 builtins            mkl                 sortedcollections\n",
      "PyQt5               bz2                 mkl_fft             sortedcontainers\n",
      "__future__          cProfile            mkl_random          soupsieve\n",
      "_abc                calendar            mmap                sphinx\n",
      "_ast                certifi             mmapfile            sphinxcontrib\n",
      "_asyncio            cffi                mmsystem            sphinxify\n",
      "_bisect             cgi                 mock                sphinxthread\n",
      "_blake2             cgitb               modulefinder        spyder\n",
      "_bootlocale         chardet             more_itertools      spyder_kernels\n",
      "_bz2                chunk               mpmath              sqlalchemy\n",
      "_cffi_backend       click               msgpack             sqlite3\n",
      "_codecs             cloudpickle         msilib              sre_compile\n",
      "_codecs_cn          clyent              msvcrt              sre_constants\n",
      "_codecs_hk          cmath               multipledispatch    sre_parse\n",
      "_codecs_iso2022     cmd                 multiprocessing     ssl\n",
      "_codecs_jp          code                nacl                sspi\n",
      "_codecs_kr          codecs              navigator_updater   sspicon\n",
      "_codecs_tw          codeop              nbconvert           stat\n",
      "_collections        collections         nbformat            statistics\n",
      "_collections_abc    colorama            netbios             statsmodels\n",
      "_compat_pickle      colorsys            netrc               storemagic\n",
      "_compression        commctrl            networkx            string\n",
      "_contextvars        compileall          nltk                stringprep\n",
      "_csv                comtypes            nntplib             struct\n",
      "_ctypes             concurrent          nose                subprocess\n",
      "_ctypes_test        conda               notebook            sunau\n",
      "_datetime           conda_build         nt                  symbol\n",
      "_decimal            conda_env           ntpath              sympy\n",
      "_dummy_thread       conda_package_handling ntsecuritycon       sympyprinting\n",
      "_elementtree        conda_verify        nturl2path          symtable\n",
      "_functools          conf                numba               sys\n",
      "_hashlib            configparser        numbers             sysconfig\n",
      "_heapq              contextlib          numexpr             tables\n",
      "_imp                contextlib2         numpy               tabnanny\n",
      "_io                 contextvars         numpydoc            tarfile\n",
      "_json               copy                odbc                tblib\n",
      "_locale             copyreg             olefile             telnetlib\n",
      "_lsprof             crypt               opcode              tempfile\n",
      "_lzma               cryptography        openpyxl            terminado\n",
      "_markupbase         csv                 operator            test\n",
      "_md5                ctypes              optparse            test_data\n",
      "_msi                curl                os                  test_pycosat\n",
      "_multibytecodec     curses              packaging           testpath\n",
      "_multiprocessing    cwp                 pandas              tests\n",
      "_nsis               cycler              pandocfilters       textwrap\n",
      "_opcode             cython              paramiko            this\n",
      "_operator           cythonmagic         parser              threading\n",
      "_osx_support        cytoolz             parso               time\n",
      "_overlapped         dask                partd               timeit\n",
      "_pickle             dataclasses         past                timer\n",
      "_py_abc             datetime            path                tkinter\n",
      "_pydecimal          dateutil            pathlib             tlz\n",
      "_pyio               dbi                 pathlib2            token\n",
      "_pylief             dbm                 pathtools           tokenize\n",
      "_pyrsistent_version dde                 patsy               toolz\n",
      "_pytest             decimal             pdb                 tornado\n",
      "_queue              decorator           pep8                tqdm\n",
      "_random             defusedxml          perfmon             trace\n",
      "_sha1               diff_match_patch    pexpect             traceback\n",
      "_sha256             difflib             pickle              tracemalloc\n",
      "_sha3               dis                 pickleshare         traitlets\n",
      "_sha512             distributed         pickletools         tty\n",
      "_signal             distutils           pip                 turtle\n",
      "_sitebuiltins       doctest             pipes               turtledemo\n",
      "_socket             docutils            pkg_resources       types\n",
      "_sqlite3            dummy_threading     pkginfo             typing\n",
      "_sre                easy_install        pkgutil             ujson\n",
      "_ssl                email               platform            unicodecsv\n",
      "_stat               encodings           plistlib            unicodedata\n",
      "_string             ensurepip           pluggy              unittest\n",
      "_strptime           entrypoints         ply                 urllib\n",
      "_struct             enum                poplib              urllib3\n",
      "_symtable           errno               posixpath           uu\n",
      "_system_path        et_xmlfile          pprint              uuid\n",
      "_testbuffer         fastcache           profile             venv\n",
      "_testcapi           faulthandler        prometheus_client   warnings\n",
      "_testconsole        filecmp             prompt_toolkit      watchdog\n",
      "_testimportmultiple fileinput           pstats              wave\n",
      "_testmultiphase     filelock            psutil              wcwidth\n",
      "_thread             flake8              pty                 weakref\n",
      "_threading_local    flask               pvectorc            webbrowser\n",
      "_tkinter            fnmatch             py                  webencodings\n",
      "_tracemalloc        formatter           py_compile          werkzeug\n",
      "_warnings           fractions           pyclbr              wheel\n",
      "_weakref            fsspec              pycodestyle         widgetsnbextension\n",
      "_weakrefset         ftplib              pycosat             win2kras\n",
      "_win32sysloader     functools           pycparser           win32api\n",
      "_winapi             future              pycurl              win32clipboard\n",
      "_winxptheme         gc                  pydoc               win32com\n",
      "_yaml               genericpath         pydoc_data          win32con\n",
      "abc                 getopt              pydocstyle          win32console\n",
      "adodbapi            getpass             pyexpat             win32cred\n",
      "afxres              gettext             pyflakes            win32crypt\n",
      "aifc                gevent              pygments            win32cryptcon\n",
      "alabaster           glob                pylab               win32ctypes\n",
      "anaconda_navigator  glob2               pylint              win32event\n",
      "anaconda_project    greenlet            pyls                win32evtlog\n",
      "antigravity         gzip                pyls_jsonrpc        win32evtlogutil\n",
      "argh                h5py                pyodbc              win32file\n",
      "argparse            hashlib             pyparsing           win32gui\n",
      "array               heapdict            pyreadline          win32gui_struct\n",
      "asn1crypto          heapq               pyrsistent          win32help\n",
      "ast                 hmac                pytest              win32inet\n",
      "astroid             html                pytest_arraydiff    win32inetcon\n",
      "astropy             html5lib            pytest_astropy_header win32job\n",
      "asynchat            http                pytest_doctestplus  win32lz\n",
      "asyncio             hypothesis          pytest_openfiles    win32net\n",
      "asyncore            idlelib             pytest_remotedata   win32netcon\n",
      "atexit              idna                pythoncom           win32pdh\n",
      "atomicwrites        imageio             pytz                win32pdhquery\n",
      "attr                imagesize           pywin               win32pdhutil\n"
     ]
    },
    {
     "name": "stdout",
     "output_type": "stream",
     "text": [
      "audioop             imaplib             pywin32_bootstrap   win32pipe\n",
      "autopep8            imghdr              pywin32_testutil    win32print\n",
      "autoreload          imp                 pywintypes          win32process\n",
      "babel               importlib           pywt                win32profile\n",
      "backcall            importlib_metadata  pyximport           win32ras\n",
      "backports           inspect             qdarkstyle          win32rcparser\n",
      "base64              intervaltree        qtawesome           win32security\n",
      "bcrypt              io                  qtconsole           win32service\n",
      "bdb                 ipaddress           qtpy                win32serviceutil\n",
      "binascii            ipykernel           queue               win32timezone\n",
      "binhex              ipykernel_launcher  quopri              win32trace\n",
      "binstar_client      ipython_genutils    random              win32traceutil\n",
      "bisect              ipywidgets          rasutil             win32transaction\n",
      "bitarray            isapi               re                  win32ts\n",
      "bkcharts            isort               readline            win32ui\n",
      "bleach              isympy              regcheck            win32uiole\n",
      "bokeh               itertools           regutil             win32verstamp\n",
      "boto                itsdangerous        reprlib             win32wnet\n",
      "bottleneck          jdcal               requests            win_inet_pton\n",
      "brain_argparse      jedi                rlcompleter         win_unicode_console\n",
      "brain_attrs         jinja2              rmagic              wincertstore\n",
      "brain_builtin_inference joblib              rope                winerror\n",
      "brain_collections   json                rtree               winioctlcon\n",
      "brain_crypt         json5               ruamel_yaml         winnt\n",
      "brain_curses        jsonschema          run                 winperf\n",
      "brain_dataclasses   jupyter             runpy               winpty\n",
      "brain_dateutil      jupyter_client      sched               winreg\n",
      "brain_fstrings      jupyter_console     scipy               winsound\n",
      "brain_functools     jupyter_core        scripts             winxpgui\n",
      "brain_gi            jupyterlab          seaborn             winxptheme\n",
      "brain_hashlib       jupyterlab_server   secrets             wrapt\n",
      "brain_http          keyring             select              wsgiref\n",
      "brain_io            keyword             selectors           xdrlib\n",
      "brain_mechanize     kiwisolver          send2trash          xlrd\n",
      "brain_multiprocessing lazy_object_proxy   servicemanager      xlsxwriter\n",
      "brain_namedtuple_enum lib2to3             setuptools          xlwings\n",
      "brain_nose          libarchive          shelve              xlwt\n",
      "brain_numpy_core_fromnumeric libfuturize         shlex               xml\n",
      "brain_numpy_core_function_base libpasteurize       shutil              xmlrpc\n",
      "brain_numpy_core_multiarray lief                signal              xmltodict\n",
      "brain_numpy_core_numeric linecache           simplegeneric       xxsubtype\n",
      "brain_numpy_core_numerictypes llvmlite            singledispatch      yaml\n",
      "brain_numpy_core_umath locale              singledispatch_helpers yapf\n",
      "brain_numpy_ndarray locket              sip                 yapftests\n",
      "brain_numpy_random_mtrand logging             sipconfig           zict\n",
      "brain_numpy_utils   lxml                sipdistutils        zipapp\n",
      "brain_pkg_resources lzma                site                zipfile\n",
      "brain_pytest        macpath             six                 zipimport\n",
      "brain_qt            mailbox             skimage             zipp\n",
      "brain_random        mailcap             sklearn             zlib\n",
      "brain_re            markupsafe          smtpd               zmq\n",
      "brain_six           marshal             smtplib             \n",
      "brain_ssl           math                sndhdr              \n",
      "\n",
      "Enter any module name to get more help.  Or, type \"modules spam\" to search\n",
      "for modules whose name or summary contain the string \"spam\".\n",
      "\n"
     ]
    }
   ],
   "source": [
    "help('modules')"
   ]
  },
  {
   "cell_type": "markdown",
   "metadata": {},
   "source": [
    "# how to create our own module"
   ]
  },
  {
   "cell_type": "code",
   "execution_count": 15,
   "metadata": {},
   "outputs": [
    {
     "name": "stdout",
     "output_type": "stream",
     "text": [
      "30\n",
      "-10\n",
      "200\n",
      "0.5\n"
     ]
    }
   ],
   "source": [
    "from Calc import *\n",
    "x=10\n",
    "y=20\n",
    "\n",
    "addition = add(x,y)\n",
    "print(addition)\n",
    "\n",
    "Substraction = sub(x,y)\n",
    "print(Substraction)\n",
    "\n",
    "Multiplication = prod(x,y)\n",
    "print(Multiplication)\n",
    "\n",
    "Division = div(x,y)\n",
    "print(Division)"
   ]
  },
  {
   "cell_type": "code",
   "execution_count": 12,
   "metadata": {},
   "outputs": [
    {
     "name": "stdout",
     "output_type": "stream",
     "text": [
      "['C:\\\\Users\\\\Lenovo\\\\anaconda3\\\\lib\\\\site-packages\\\\spyder\\\\plugins\\\\help\\\\utils', 'C:\\\\Users\\\\Lenovo\\\\Online Summer Training in Machine Learning and Data Science with Python by goeduhub', 'C:\\\\Users\\\\Lenovo\\\\Online Summer Training in Machine Learning and Data Science with Python by goeduhub\\\\Classes', 'C:\\\\Users\\\\Lenovo\\\\anaconda3\\\\python37.zip', 'C:\\\\Users\\\\Lenovo\\\\anaconda3\\\\DLLs', 'C:\\\\Users\\\\Lenovo\\\\anaconda3\\\\lib', 'C:\\\\Users\\\\Lenovo\\\\anaconda3', '', 'C:\\\\Users\\\\Lenovo\\\\anaconda3\\\\lib\\\\site-packages', 'C:\\\\Users\\\\Lenovo\\\\anaconda3\\\\lib\\\\site-packages\\\\win32', 'C:\\\\Users\\\\Lenovo\\\\anaconda3\\\\lib\\\\site-packages\\\\win32\\\\lib', 'C:\\\\Users\\\\Lenovo\\\\anaconda3\\\\lib\\\\site-packages\\\\Pythonwin', 'C:\\\\Users\\\\Lenovo\\\\anaconda3\\\\lib\\\\site-packages\\\\IPython\\\\extensions', 'C:\\\\Users\\\\Lenovo\\\\.ipython', 'C:\\\\Users\\\\Lenovo\\\\anaconda3\\\\lib\\\\site-packages\\\\astroid\\\\brain']\n"
     ]
    }
   ],
   "source": [
    "# for communicating with the os\n",
    "import sys\n",
    "print(sys.path)"
   ]
  },
  {
   "cell_type": "markdown",
   "metadata": {},
   "source": [
    "# Classes and Objects in python"
   ]
  },
  {
   "cell_type": "code",
   "execution_count": 25,
   "metadata": {},
   "outputs": [
    {
     "name": "stdout",
     "output_type": "stream",
     "text": [
      "20\n",
      "hello\n"
     ]
    }
   ],
   "source": [
    "class Human:\n",
    "    age = 20\n",
    "    \n",
    "    def speaks(self):\n",
    "        print('hello')\n",
    "        \n",
    "print(Human.age)\n",
    "\n",
    "p1 = Human()   # Object\n",
    "p1.speaks()    # internal meaning Human.speaks(p1)"
   ]
  },
  {
   "cell_type": "code",
   "execution_count": 30,
   "metadata": {},
   "outputs": [
    {
     "name": "stdout",
     "output_type": "stream",
     "text": [
      "Name Harry \n",
      " ID 1001\n",
      "Name Smith \n",
      " ID 1002\n",
      "None\n"
     ]
    }
   ],
   "source": [
    "class Employee:\n",
    "    def __init__(self,name,id):  # constructor\n",
    "        self.id = id\n",
    "        self.name = name\n",
    "        \n",
    "    def display(self):          # function\n",
    "        print(\"Name %s \\n ID %d\"%(self.name,self.id))\n",
    "        \n",
    "e1 = Employee('Harry',1001)\n",
    "e2 = Employee('Smith',1002)\n",
    "\n",
    "e1.display()\n",
    "e2.display()\n",
    "\n",
    "print(e1.__doc__) # It has class documentation"
   ]
  }
 ],
 "metadata": {
  "kernelspec": {
   "display_name": "Python 3",
   "language": "python",
   "name": "python3"
  },
  "language_info": {
   "codemirror_mode": {
    "name": "ipython",
    "version": 3
   },
   "file_extension": ".py",
   "mimetype": "text/x-python",
   "name": "python",
   "nbconvert_exporter": "python",
   "pygments_lexer": "ipython3",
   "version": "3.7.6"
  }
 },
 "nbformat": 4,
 "nbformat_minor": 4
}
